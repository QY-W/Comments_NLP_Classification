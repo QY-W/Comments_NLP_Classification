{
 "cells": [
  {
   "cell_type": "code",
   "execution_count": 1,
   "id": "abf4d5c9",
   "metadata": {},
   "outputs": [
    {
     "name": "stdout",
     "output_type": "stream",
     "text": [
      "3.9.5 (default, May 18 2021, 14:42:02) [MSC v.1916 64 bit (AMD64)]\n"
     ]
    }
   ],
   "source": [
    "import sys \n",
    "print(sys.version)"
   ]
  },
  {
   "cell_type": "code",
   "execution_count": 2,
   "id": "1d95396d",
   "metadata": {},
   "outputs": [],
   "source": [
    "# python version 3.9.5\n",
    "import pandas as pd\n",
    "import string\n",
    "import util\n",
    "import io\n",
    "import os\n",
    "from pprint import pprint\n",
    "import spacy\n",
    "import pickle\n",
    "import re\n",
    "import numpy as np\n"
   ]
  },
  {
   "cell_type": "code",
   "execution_count": 40,
   "id": "90d27e2f",
   "metadata": {},
   "outputs": [],
   "source": [
    "# pickle.dump(df_harmful_preprocessed, open('pkls/data_harmful_processed.pkl', 'wb'))\n",
    "\n",
    "\n",
    "my_path_sampled_p = 'pkls/data_sampled_processed.pkl'\n",
    "my_path_harmful_p = 'pkls/data_harmful_processed.pkl'\n",
    "\n",
    "my_path_sampled = 'pkls/data_sampled.pkl'\n",
    "my_path_harmful = 'pkls/data_harmful.pkl'\n",
    "\n",
    "with open(my_path_sampled_p, \"rb\") as f:\n",
    "    data_sampled_p = pickle.load(f)\n",
    "    \n",
    "    \n",
    "with open(my_path_harmful_p, \"rb\") as f:\n",
    "    data_harmful_p = pickle.load(f)\n",
    "    \n",
    "    \n",
    "with open(my_path_sampled, \"rb\") as f:\n",
    "    data_sampled = pickle.load(f)\n",
    "    \n",
    "    \n",
    "with open(my_path_harmful, \"rb\") as f:\n",
    "    data_harmful = pickle.load(f)"
   ]
  },
  {
   "cell_type": "code",
   "execution_count": 41,
   "id": "1bb731c2",
   "metadata": {},
   "outputs": [
    {
     "data": {
      "text/plain": [
       "(37727, 2)"
      ]
     },
     "execution_count": 41,
     "metadata": {},
     "output_type": "execute_result"
    }
   ],
   "source": [
    "data_sampled.shape"
   ]
  },
  {
   "cell_type": "code",
   "execution_count": 42,
   "id": "5461bda0",
   "metadata": {},
   "outputs": [
    {
     "data": {
      "text/plain": [
       "(37727, 9)"
      ]
     },
     "execution_count": 42,
     "metadata": {},
     "output_type": "execute_result"
    }
   ],
   "source": [
    "data_sampled_p.shape"
   ]
  }
 ],
 "metadata": {
  "kernelspec": {
   "display_name": "Python 3 (ipykernel)",
   "language": "python",
   "name": "python3"
  },
  "language_info": {
   "codemirror_mode": {
    "name": "ipython",
    "version": 3
   },
   "file_extension": ".py",
   "mimetype": "text/x-python",
   "name": "python",
   "nbconvert_exporter": "python",
   "pygments_lexer": "ipython3",
   "version": "3.9.5"
  }
 },
 "nbformat": 4,
 "nbformat_minor": 5
}
