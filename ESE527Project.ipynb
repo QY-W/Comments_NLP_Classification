{
 "cells": [
  {
   "cell_type": "code",
   "execution_count": 1,
   "id": "93c6cbef",
   "metadata": {},
   "outputs": [
    {
     "name": "stdout",
     "output_type": "stream",
     "text": [
      "3.8.6rc1 (tags/v3.8.6rc1:08bd63d, Sep  7 2020, 23:10:23) [MSC v.1927 64 bit (AMD64)]\n"
     ]
    }
   ],
   "source": [
    "import sys \n",
    "print(sys.version)"
   ]
  },
  {
   "cell_type": "code",
   "execution_count": 2,
   "id": "b2d4cc78",
   "metadata": {},
   "outputs": [
    {
     "name": "stderr",
     "output_type": "stream",
     "text": [
      "[nltk_data] Downloading package stopwords to\n",
      "[nltk_data]     C:\\Users\\Willi\\AppData\\Roaming\\nltk_data...\n",
      "[nltk_data]   Package stopwords is already up-to-date!\n"
     ]
    }
   ],
   "source": [
    "# python version 3.8.6rc1\n",
    "import pandas as pd\n",
    "import string\n",
    "import util\n",
    "import io\n",
    "import os\n",
    "from pprint import pprint\n",
    "import spacy\n",
    "import pickle\n",
    "import re\n",
    "\n",
    "import warnings\n",
    "warnings.filterwarnings(action='once')\n",
    "#warnings.filterwarnings('ignore')\n",
    "warnings.simplefilter(action='ignore', category=FutureWarning)\n",
    "warnings.filterwarnings(\"ignore\", category=DeprecationWarning)\n",
    "\n",
    "import matplotlib\n",
    "matplotlib.use(\"Agg\")\n",
    "import matplotlib.pyplot as plt\n",
    "\n",
    "import nltk\n",
    "from nltk.stem import WordNetLemmatizer\n",
    "nltk.download('stopwords')\n",
    "from nltk.corpus import stopwords\n",
    "\n",
    "from vaderSentiment.vaderSentiment import SentimentIntensityAnalyzer\n",
    "import gensim\n",
    "import gensim.corpora as corpora\n",
    "from gensim.corpora import Dictionary\n",
    "from gensim.models.coherencemodel import CoherenceModel\n",
    "from gensim.models.ldamodel import LdaModel\n",
    "\n",
    "import pyLDAvis\n",
    "import pyLDAvis.gensim_models\n",
    "import matplotlib.pyplot as plt\n",
    "import pandas as pd\n",
    "from sklearn.feature_extraction.text import CountVectorizer\n",
    "from sklearn import metrics\n",
    "from sklearn.decomposition import LatentDirichletAllocation"
   ]
  },
  {
   "cell_type": "code",
   "execution_count": 4,
   "id": "a8d1d464",
   "metadata": {},
   "outputs": [
    {
     "name": "stderr",
     "output_type": "stream",
     "text": [
      "c:\\users\\willi\\appdata\\local\\programs\\python\\python38\\lib\\site-packages\\ipykernel\\ipkernel.py:283: DeprecationWarning: `should_run_async` will not call `transform_cell` automatically in the future. Please pass the result to `transformed_cell` argument and any exception that happen during thetransform in `preprocessing_exc_tuple` in IPython 7.17 and above.\n",
      "  and should_run_async(code)\n"
     ]
    },
    {
     "data": {
      "text/plain": [
       "toxic            15294\n",
       "severe_toxic      1595\n",
       "obscene           8449\n",
       "threat             478\n",
       "insult            7877\n",
       "identity_hate     1405\n",
       "dtype: int64"
      ]
     },
     "execution_count": 4,
     "metadata": {},
     "output_type": "execute_result"
    }
   ],
   "source": [
    "comments = pd.read_csv(\"train.csv\")\n",
    "comments.iloc[:, 2:].sum(axis=0)"
   ]
  },
  {
   "cell_type": "code",
   "execution_count": 5,
   "id": "091b3b1f",
   "metadata": {},
   "outputs": [
    {
     "name": "stderr",
     "output_type": "stream",
     "text": [
      "c:\\users\\willi\\appdata\\local\\programs\\python\\python38\\lib\\site-packages\\ipykernel\\ipkernel.py:283: DeprecationWarning: `should_run_async` will not call `transform_cell` automatically in the future. Please pass the result to `transformed_cell` argument and any exception that happen during thetransform in `preprocessing_exc_tuple` in IPython 7.17 and above.\n",
      "  and should_run_async(code)\n"
     ]
    },
    {
     "name": "stdout",
     "output_type": "stream",
     "text": [
      "toxic            15294\n",
      "severe_toxic      1595\n",
      "obscene           8449\n",
      "threat             478\n",
      "insult            7877\n",
      "identity_hate     1405\n",
      "dtype: int64\n"
     ]
    },
    {
     "ename": "NameError",
     "evalue": "name 'unique' is not defined",
     "output_type": "error",
     "traceback": [
      "\u001b[1;31m---------------------------------------------------------------------------\u001b[0m",
      "\u001b[1;31mNameError\u001b[0m                                 Traceback (most recent call last)",
      "\u001b[1;32m<ipython-input-5-9c239e0136ef>\u001b[0m in \u001b[0;36m<module>\u001b[1;34m\u001b[0m\n\u001b[0;32m      5\u001b[0m \u001b[1;31m# merging different kinds of harmful indicators\u001b[0m\u001b[1;33m\u001b[0m\u001b[1;33m\u001b[0m\u001b[1;33m\u001b[0m\u001b[0m\n\u001b[0;32m      6\u001b[0m \u001b[0mcomments\u001b[0m\u001b[1;33m[\u001b[0m\u001b[1;34m'harmful'\u001b[0m\u001b[1;33m]\u001b[0m \u001b[1;33m=\u001b[0m \u001b[0mcomments\u001b[0m\u001b[1;33m.\u001b[0m\u001b[0miloc\u001b[0m\u001b[1;33m[\u001b[0m\u001b[1;33m:\u001b[0m\u001b[1;33m,\u001b[0m \u001b[1;36m2\u001b[0m\u001b[1;33m:\u001b[0m\u001b[1;33m]\u001b[0m\u001b[1;33m.\u001b[0m\u001b[0msum\u001b[0m\u001b[1;33m(\u001b[0m\u001b[0maxis\u001b[0m\u001b[1;33m=\u001b[0m\u001b[1;36m1\u001b[0m\u001b[1;33m)\u001b[0m\u001b[1;33m\u001b[0m\u001b[1;33m\u001b[0m\u001b[0m\n\u001b[1;32m----> 7\u001b[1;33m \u001b[0munique\u001b[0m\u001b[1;33m(\u001b[0m\u001b[0mcomments\u001b[0m\u001b[1;33m)\u001b[0m\u001b[1;33m\u001b[0m\u001b[1;33m\u001b[0m\u001b[0m\n\u001b[0m\u001b[0;32m      8\u001b[0m \u001b[1;31m#comments[comments['harmful']!=0] = 1\u001b[0m\u001b[1;33m\u001b[0m\u001b[1;33m\u001b[0m\u001b[1;33m\u001b[0m\u001b[0m\n\u001b[0;32m      9\u001b[0m \u001b[0mdf\u001b[0m \u001b[1;33m=\u001b[0m \u001b[0mcomments\u001b[0m\u001b[1;33m[\u001b[0m\u001b[1;33m[\u001b[0m\u001b[1;34m'comment_text'\u001b[0m\u001b[1;33m,\u001b[0m\u001b[1;34m\"harmful\"\u001b[0m\u001b[1;33m]\u001b[0m\u001b[1;33m]\u001b[0m\u001b[1;31m#.copy()\u001b[0m\u001b[1;33m\u001b[0m\u001b[1;33m\u001b[0m\u001b[0m\n",
      "\u001b[1;31mNameError\u001b[0m: name 'unique' is not defined"
     ]
    }
   ],
   "source": [
    "comments = pd.read_csv(\"train.csv\")\n",
    "comments.head()\n",
    "print(comments.iloc[:, 2:].sum(axis=0))\n",
    "#(comments.iloc[:, 2:].sum())\n",
    "# merging different kinds of harmful indicators\n",
    "comments['harmful'] = comments.iloc[:, 2:].sum(axis=1)\n",
    "unique(comments)\n",
    "#comments[comments['harmful']!=0] = 1\n",
    "df = comments[['comment_text',\"harmful\"]]#.copy()\n",
    "#selected.dtypes\n",
    "\n",
    "df_harmful = df[df['harmful'] > 0] \n",
    "df_not_harmful = df[df['harmful'] == 0] \n",
    "df.head()"
   ]
  },
  {
   "cell_type": "code",
   "execution_count": 5,
   "id": "dea55085",
   "metadata": {},
   "outputs": [
    {
     "name": "stderr",
     "output_type": "stream",
     "text": [
      "c:\\users\\willi\\appdata\\local\\programs\\python\\python38\\lib\\site-packages\\ipykernel\\ipkernel.py:283: DeprecationWarning: `should_run_async` will not call `transform_cell` automatically in the future. Please pass the result to `transformed_cell` argument and any exception that happen during thetransform in `preprocessing_exc_tuple` in IPython 7.17 and above.\n",
      "  and should_run_async(code)\n"
     ]
    },
    {
     "data": {
      "text/plain": [
       "16225"
      ]
     },
     "execution_count": 5,
     "metadata": {},
     "output_type": "execute_result"
    }
   ],
   "source": [
    "df['harmful'].unique"
   ]
  },
  {
   "cell_type": "code",
   "execution_count": 4,
   "id": "f8098432",
   "metadata": {},
   "outputs": [
    {
     "name": "stderr",
     "output_type": "stream",
     "text": [
      "c:\\users\\willi\\appdata\\local\\programs\\python\\python38\\lib\\site-packages\\ipykernel\\ipkernel.py:283: DeprecationWarning: `should_run_async` will not call `transform_cell` automatically in the future. Please pass the result to `transformed_cell` argument and any exception that happen during thetransform in `preprocessing_exc_tuple` in IPython 7.17 and above.\n",
      "  and should_run_async(code)\n",
      "<ipython-input-4-faacbe93b44c>:47: SettingWithCopyWarning: \n",
      "A value is trying to be set on a copy of a slice from a DataFrame.\n",
      "Try using .loc[row_indexer,col_indexer] = value instead\n",
      "\n",
      "See the caveats in the documentation: https://pandas.pydata.org/pandas-docs/stable/user_guide/indexing.html#returning-a-view-versus-a-copy\n",
      "  df[\"comment_text_clean\"] = df[\"comment_text\"].apply(lambda x: remove_punctuation(x))\n"
     ]
    },
    {
     "data": {
      "text/html": [
       "<div>\n",
       "<style scoped>\n",
       "    .dataframe tbody tr th:only-of-type {\n",
       "        vertical-align: middle;\n",
       "    }\n",
       "\n",
       "    .dataframe tbody tr th {\n",
       "        vertical-align: top;\n",
       "    }\n",
       "\n",
       "    .dataframe thead th {\n",
       "        text-align: right;\n",
       "    }\n",
       "</style>\n",
       "<table border=\"1\" class=\"dataframe\">\n",
       "  <thead>\n",
       "    <tr style=\"text-align: right;\">\n",
       "      <th></th>\n",
       "      <th>comment_text</th>\n",
       "      <th>harmful</th>\n",
       "      <th>comment_text_clean</th>\n",
       "      <th>tokenized</th>\n",
       "      <th>stemmed</th>\n",
       "      <th>lemmatized</th>\n",
       "    </tr>\n",
       "  </thead>\n",
       "  <tbody>\n",
       "    <tr>\n",
       "      <th>6</th>\n",
       "      <td>COCKSUCKER BEFORE YOU PISS AROUND ON MY WORK</td>\n",
       "      <td>4</td>\n",
       "      <td>cocksucker before you piss around on my work</td>\n",
       "      <td>[cocksucker, piss, around, work]</td>\n",
       "      <td>[cocksuck, piss, around, work]</td>\n",
       "      <td>[cocksuck, piss, around, work]</td>\n",
       "    </tr>\n",
       "    <tr>\n",
       "      <th>12</th>\n",
       "      <td>Hey... what is it..\\n@ | talk .\\nWhat is it......</td>\n",
       "      <td>1</td>\n",
       "      <td>hey what is it\\n  talk \\nwhat is it an exclusi...</td>\n",
       "      <td>[hey, talk, exclusive, group, wp, talibanswho,...</td>\n",
       "      <td>[hey, talk, exclus, group, wp, talibanswho, go...</td>\n",
       "      <td>[hey, talk, exclus, group, wp, talibanswho, go...</td>\n",
       "    </tr>\n",
       "    <tr>\n",
       "      <th>16</th>\n",
       "      <td>Bye! \\n\\nDon't look, come or think of comming ...</td>\n",
       "      <td>1</td>\n",
       "      <td>bye \\n\\ndont look come or think of comming bac...</td>\n",
       "      <td>[bye, dont, look, come, think, comming, back, ...</td>\n",
       "      <td>[bye, dont, look, come, think, com, back, tosser]</td>\n",
       "      <td>[bye, dont, look, come, think, com, back, tosser]</td>\n",
       "    </tr>\n",
       "    <tr>\n",
       "      <th>42</th>\n",
       "      <td>You are gay or antisemmitian? \\n\\nArchangel WH...</td>\n",
       "      <td>4</td>\n",
       "      <td>you are gay or antisemmitian \\n\\narchangel whi...</td>\n",
       "      <td>[gay, antisemmitian, archangel, white, tiger, ...</td>\n",
       "      <td>[gay, antisemmitian, archangel, white, tiger, ...</td>\n",
       "      <td>[gay, antisemmitian, archangel, white, tiger, ...</td>\n",
       "    </tr>\n",
       "    <tr>\n",
       "      <th>43</th>\n",
       "      <td>FUCK YOUR FILTHY MOTHER IN THE ASS, DRY!</td>\n",
       "      <td>3</td>\n",
       "      <td>fuck your filthy mother in the ass dry</td>\n",
       "      <td>[fuck, filthy, mother, ass, dry]</td>\n",
       "      <td>[fuck, filthi, mother, ass, dri]</td>\n",
       "      <td>[fuck, filthi, mother, as, dri]</td>\n",
       "    </tr>\n",
       "  </tbody>\n",
       "</table>\n",
       "</div>"
      ],
      "text/plain": [
       "                                         comment_text  harmful  \\\n",
       "6        COCKSUCKER BEFORE YOU PISS AROUND ON MY WORK        4   \n",
       "12  Hey... what is it..\\n@ | talk .\\nWhat is it......        1   \n",
       "16  Bye! \\n\\nDon't look, come or think of comming ...        1   \n",
       "42  You are gay or antisemmitian? \\n\\nArchangel WH...        4   \n",
       "43           FUCK YOUR FILTHY MOTHER IN THE ASS, DRY!        3   \n",
       "\n",
       "                                   comment_text_clean  \\\n",
       "6        cocksucker before you piss around on my work   \n",
       "12  hey what is it\\n  talk \\nwhat is it an exclusi...   \n",
       "16  bye \\n\\ndont look come or think of comming bac...   \n",
       "42  you are gay or antisemmitian \\n\\narchangel whi...   \n",
       "43             fuck your filthy mother in the ass dry   \n",
       "\n",
       "                                            tokenized  \\\n",
       "6                    [cocksucker, piss, around, work]   \n",
       "12  [hey, talk, exclusive, group, wp, talibanswho,...   \n",
       "16  [bye, dont, look, come, think, comming, back, ...   \n",
       "42  [gay, antisemmitian, archangel, white, tiger, ...   \n",
       "43                   [fuck, filthy, mother, ass, dry]   \n",
       "\n",
       "                                              stemmed  \\\n",
       "6                      [cocksuck, piss, around, work]   \n",
       "12  [hey, talk, exclus, group, wp, talibanswho, go...   \n",
       "16  [bye, dont, look, come, think, com, back, tosser]   \n",
       "42  [gay, antisemmitian, archangel, white, tiger, ...   \n",
       "43                   [fuck, filthi, mother, ass, dri]   \n",
       "\n",
       "                                           lemmatized  \n",
       "6                      [cocksuck, piss, around, work]  \n",
       "12  [hey, talk, exclus, group, wp, talibanswho, go...  \n",
       "16  [bye, dont, look, come, think, com, back, tosser]  \n",
       "42  [gay, antisemmitian, archangel, white, tiger, ...  \n",
       "43                    [fuck, filthi, mother, as, dri]  "
      ]
     },
     "execution_count": 4,
     "metadata": {},
     "output_type": "execute_result"
    }
   ],
   "source": [
    "def prepossess(df):\n",
    "    def remove_punctuation(text):\n",
    "        #return str(text).translate(str.maketrans('', '', string.punctuation))\n",
    "        text_nopunct = \"\".join([char for char in str(text) if char not in string.punctuation])\n",
    "        return text_nopunct\n",
    "\n",
    "    def tokenize_text(text):\n",
    "        tokens = nltk.word_tokenize(text) \n",
    "        tokens = [token.strip() for token in tokens]\n",
    "        return tokens\n",
    "\n",
    "    def remove_stopwords(tokens):\n",
    "        stopword_list = nltk.corpus.stopwords.words('english')\n",
    "        filtered_tokens = [token for token in tokens if token not in stopword_list]\n",
    "        #filtered_text = ' '.join(filtered_tokens)    \n",
    "        return filtered_tokens\n",
    "\n",
    "    def expand_contractions(text, contraction_mapping):\n",
    "\n",
    "        contractions_pattern = re.compile('({})'.format('|'.join(contraction_mapping.keys())), \n",
    "                                          flags=re.IGNORECASE|re.DOTALL)\n",
    "        def expand_match(contraction):\n",
    "            match = contraction.group(0)\n",
    "            first_char = match[0]\n",
    "            expanded_contraction = contraction_mapping.get(match)\\\n",
    "                                    if contraction_mapping.get(match)\\\n",
    "                                    else contraction_mapping.get(match.lower())                       \n",
    "            expanded_contraction = first_char+expanded_contraction[1:]\n",
    "            return expanded_contraction\n",
    "\n",
    "        expanded_text = contractions_pattern.sub(expand_match, text)\n",
    "        expanded_text = re.sub(\"'\", \"\", expanded_text)\n",
    "        return expanded_text\n",
    "\n",
    "    def stemming(tokenized_text):\n",
    "        ps = nltk.PorterStemmer()\n",
    "        stemmed = [ps.stem(word) for word in tokenized_text]\n",
    "        return stemmed\n",
    "\n",
    "    def lemmatize(tokenized_text):\n",
    "        wn = nltk.WordNetLemmatizer()\n",
    "        lemmatized = [wn.lemmatize(word) for word in tokenized_text]\n",
    "        return lemmatized\n",
    "    \n",
    "    df[\"comment_text_clean\"] = df[\"comment_text\"].apply(lambda x: remove_punctuation(x))\n",
    "    df[\"comment_text_clean\"] = df[\"comment_text_clean\"].apply(lambda x: expand_contractions(x.lower(), util.contraction_mapping))\n",
    "    df[\"tokenized\"] = df[\"comment_text_clean\"].apply(lambda x: tokenize_text(x))\n",
    "    df['tokenized'] =  df[\"tokenized\"].apply(lambda x: remove_stopwords(x))\n",
    "    df['stemmed'] =  df[\"tokenized\"].apply(lambda x: stemming(x))\n",
    "    df['lemmatized'] =  df[\"stemmed\"].apply(lambda x: lemmatize(x))\n",
    "    return df\n",
    "\n",
    "df = prepossess(df)\n",
    "df.head()\n",
    "\n"
   ]
  },
  {
   "cell_type": "code",
   "execution_count": 5,
   "id": "71e22267",
   "metadata": {},
   "outputs": [
    {
     "name": "stderr",
     "output_type": "stream",
     "text": [
      "c:\\users\\willi\\appdata\\local\\programs\\python\\python38\\lib\\site-packages\\ipykernel\\ipkernel.py:283: DeprecationWarning: `should_run_async` will not call `transform_cell` automatically in the future. Please pass the result to `transformed_cell` argument and any exception that happen during thetransform in `preprocessing_exc_tuple` in IPython 7.17 and above.\n",
      "  and should_run_async(code)\n"
     ]
    }
   ],
   "source": [
    "def token_to_corpus(token):\n",
    "    data_words = token.values.tolist()\n",
    "    #print(data_words[:1][0][:30])\n",
    "    id2word = corpora.Dictionary(data_words)\n",
    "    # Create Corpus\n",
    "    texts = data_words\n",
    "    # Term Document Frequency\n",
    "    corpus = [id2word.doc2bow(text) for text in texts]  \n",
    "    return corpus, id2word\n",
    "\n",
    "def generate_pyLDAvis(corpus, id2word,num_topics = 10, save = False):\n",
    "    lda_model = LdaModel(corpus = corpus,\n",
    "                     id2word = id2word,\n",
    "                     num_topics = num_topics,\n",
    "                     random_state = 0,\n",
    "                     chunksize = 100,\n",
    "                     alpha = \"auto\",\n",
    "                     per_word_topics = True,\n",
    "    )\n",
    "    LDA_vis = pyLDAvis.gensim_models.prepare(lda_model, corpus, id2word)\n",
    "    if(save):\n",
    "        pyLDAvis.save_html(LDA_vis, \"./results/pyLDAvis.html\")\n",
    "    pprint(lda_model.print_topics())\n",
    "    return LDA_vis\n",
    "\n",
    "\n"
   ]
  },
  {
   "cell_type": "code",
   "execution_count": 6,
   "id": "58b07981",
   "metadata": {
    "scrolled": true
   },
   "outputs": [
    {
     "name": "stderr",
     "output_type": "stream",
     "text": [
      "c:\\users\\willi\\appdata\\local\\programs\\python\\python38\\lib\\site-packages\\ipykernel\\ipkernel.py:283: DeprecationWarning: `should_run_async` will not call `transform_cell` automatically in the future. Please pass the result to `transformed_cell` argument and any exception that happen during thetransform in `preprocessing_exc_tuple` in IPython 7.17 and above.\n",
      "  and should_run_async(code)\n"
     ]
    },
    {
     "name": "stdout",
     "output_type": "stream",
     "text": [
      "[(0,\n",
      "  '0.026*\"fuck\" + 0.011*\"edit\" + 0.008*\"mother\" + 0.008*\"would\" + 0.007*\"god\" '\n",
      "  '+ 0.007*\"know\" + 0.006*\"refer\" + 0.006*\"dead\" + 0.006*\"wikipedia\" + '\n",
      "  '0.006*\"made\"'),\n",
      " (1,\n",
      "  '0.014*\"fuck\" + 0.014*\"go\" + 0.012*\"like\" + 0.012*\"peopl\" + 0.009*\"edit\" + '\n",
      "  '0.009*\"wikipedia\" + 0.008*\"cur\" + 0.007*\"shit\" + 0.007*\"right\" + '\n",
      "  '0.006*\"fire\"'),\n",
      " (2,\n",
      "  '0.025*\"fuck\" + 0.021*\"get\" + 0.010*\"daughter\" + 0.009*\"see\" + 0.009*\"dog\" + '\n",
      "  '0.009*\"like\" + 0.008*\"son\" + 0.008*\"father\" + 0.008*\"got\" + 0.008*\"say\"'),\n",
      " (3,\n",
      "  '0.019*\"fuck\" + 0.019*\"dont\" + 0.011*\"say\" + 0.010*\"go\" + 0.008*\"block\" + '\n",
      "  '0.008*\"mother\" + 0.007*\"gay\" + 0.007*\"get\" + 0.007*\"daughter\" + '\n",
      "  '0.007*\"suck\"'),\n",
      " (4,\n",
      "  '0.011*\"pov\" + 0.011*\"articl\" + 0.010*\"capoeira\" + 0.009*\"histori\" + '\n",
      "  '0.007*\"get\" + 0.006*\"ludim\" + 0.006*\"son\" + 0.006*\"take\" + 0.006*\"say\" + '\n",
      "  '0.006*\"time\"'),\n",
      " (5,\n",
      "  '0.016*\"as\" + 0.014*\"like\" + 0.008*\"life\" + 0.008*\"hardi\" + 0.008*\"littl\" + '\n",
      "  '0.008*\"look\" + 0.007*\"sorri\" + 0.007*\"one\" + 0.006*\"get\" + 0.006*\"im\"'),\n",
      " (6,\n",
      "  '0.014*\"page\" + 0.012*\"wikipedia\" + 0.010*\"peopl\" + 0.008*\"keep\" + '\n",
      "  '0.007*\"kill\" + 0.006*\"men\" + 0.006*\"say\" + 0.006*\"muslim\" + '\n",
      "  '0.006*\"internet\" + 0.006*\"get\"'),\n",
      " (7,\n",
      "  '0.013*\"like\" + 0.010*\"think\" + 0.009*\"dont\" + 0.009*\"edit\" + 0.008*\"u\" + '\n",
      "  '0.008*\"know\" + 0.007*\"adult\" + 0.007*\"one\" + 0.007*\"motherfuck\" + '\n",
      "  '0.006*\"go\"'),\n",
      " (8,\n",
      "  '0.016*\"fun\" + 0.015*\"world\" + 0.012*\"fuck\" + 0.012*\"ride\" + '\n",
      "  '0.011*\"wikipedia\" + 0.010*\"go\" + 0.010*\"wof\" + 0.008*\"stop\" + 0.008*\"take\" '\n",
      "  '+ 0.007*\"hope\"'),\n",
      " (9,\n",
      "  '0.011*\"one\" + 0.010*\"go\" + 0.010*\"want\" + 0.010*\"im\" + 0.009*\"talk\" + '\n",
      "  '0.009*\"page\" + 0.007*\"know\" + 0.007*\"peopl\" + 0.007*\"stupid\" + '\n",
      "  '0.006*\"wikipedia\"')]\n"
     ]
    },
    {
     "data": {
      "text/html": [
       "\n",
       "<link rel=\"stylesheet\" type=\"text/css\" href=\"https://cdn.jsdelivr.net/gh/bmabey/pyLDAvis@3.3.1/pyLDAvis/js/ldavis.v1.0.0.css\">\n",
       "\n",
       "\n",
       "<div id=\"ldavis_el3506416476543415361853633187\"></div>\n",
       "<script type=\"text/javascript\">\n",
       "\n",
       "var ldavis_el3506416476543415361853633187_data = {\"mdsDat\": {\"x\": [-0.0003257571881559659, 0.037506306670292706, 0.09776747807992159, -0.07995839874598831, 0.09863966019115783, 0.0022120054012114056, -0.08666299564328163, -0.04126741592404731, -0.005084377606443719, -0.02282650523466632], \"y\": [0.1029847208874097, -0.11139900688785222, 0.03485886383417913, -0.00518226621062872, 0.010851487403090701, 0.026316876147323406, 0.03289102397182803, -0.036763948814900214, -0.03671470381716642, -0.017843046513283497], \"topics\": [1, 2, 3, 4, 5, 6, 7, 8, 9, 10], \"cluster\": [1, 1, 1, 1, 1, 1, 1, 1, 1, 1], \"Freq\": [14.70073017285183, 13.787125181783324, 13.005751563295199, 11.392831094963404, 10.939010006192555, 9.149227576681437, 7.962143282360133, 7.549289093809473, 6.366199425771077, 5.147692602291568]}, \"tinfo\": {\"Term\": [\"fuck\", \"fun\", \"as\", \"get\", \"like\", \"edit\", \"ride\", \"dont\", \"world\", \"capoeira\", \"mother\", \"articl\", \"pov\", \"wof\", \"daughter\", \"gay\", \"go\", \"son\", \"block\", \"histori\", \"page\", \"burn\", \"sorri\", \"dog\", \"cur\", \"say\", \"peopl\", \"want\", \"wikipedia\", \"know\", \"ride\", \"fun\", \"wof\", \"william\", \"sht\", \"fk\", \"park\", \"custom\", \"oper\", \"hope\", \"world\", \"assassin\", \"what\", \"moar\", \"timberwolf\", \"dangerous\", \"arrest\", \"51\", \"hei\", \"boy\", \"salut\", \"built\", \"nown\", \"might\", \"area\", \"new\", \"everyth\", \"shtti\", \"fan\", \"august\", \"cult\", \"vandal\", \"money\", \"burn\", \"stop\", \"fool\", \"free\", \"jimbo\", \"better\", \"feel\", \"dickhead\", \"ill\", \"wikipedia\", \"make\", \"take\", \"go\", \"fuck\", \"back\", \"thank\", \"bet\", \"test\", \"stupid\", \"let\", \"im\", \"littl\", \"page\", \"get\", \"deck\", \"gibson\", \"girl\", \"offens\", \"ur\", \"adult\", \"authent\", \"sand\", \"pulpyou\", \"shagger\", \"tw\", \"blrude\", \"beat\", \"chicken\", \"oral\", \"offthen\", \"rebelguy\", \"boyu\", \"poopi\", \"thatd\", \"leviathan\", \"weiner\", \"mum\", \"fuckhead\", \"awaken\", \"pair\", \"smellyfuck\", \"livei\", \"jewhat\", \"prostitut\", \"u\", \"guy\", \"islam\", \"imag\", \"motherfuck\", \"age\", \"teenag\", \"r\", \"soapbox\", \"constant\", \"gay\", \"poster\", \"think\", \"amus\", \"write\", \"like\", \"subject\", \"revert\", \"realli\", \"edit\", \"know\", \"encyclopedia\", \"good\", \"dont\", \"one\", \"peopl\", \"look\", \"go\", \"burn\", \"tri\", \"take\", \"fuck\", \"see\", \"get\", \"wp\", \"ask\", \"script\", \"faggot\", \"spread\", \"sinc\", \"screw\", \"domin\", \"761227982\", \"outsidewith\", \"question\", \"templat\", \"abt\", \"selfappoint\", \"racism\", \"purist\", \"destroy\", \"destruct\", \"group\", \"noncontribut\", \"assert\", \"talibanswho\", \"behavior\", \"sityush\", \"antisemit\", \"issu\", \"gang\", \"almighti\", \"bow\", \"antisoci\", \"want\", \"kim\", \"goddamn\", \"bot\", \"run\", \"clean\", \"talk\", \"help\", \"hey\", \"kid\", \"sorri\", \"jong\", \"warn\", \"one\", \"un\", \"im\", \"stupid\", \"page\", \"know\", \"go\", \"suppos\", \"speak\", \"peopl\", \"govern\", \"edit\", \"wikipedia\", \"care\", \"dont\", \"make\", \"tri\", \"fuck\", \"think\", \"who\", \"interview\", \"2004\", \"among\", \"hide\", \"mattsanchezinfo\", \"20\", \"invit\", \"victim\", \"grave\", \"danc\", \"impolit\", \"nowher\", \"fuckee\", \"monday\", \"jan\", \"coward\", \"smith\", \"filth\", \"0427\", \"notifi\", \"drink\", \"youll\", \"got\", \"matt\", \"father\", \"ethnic\", \"utc\", \"live\", \"straight\", \"dog\", \"daughter\", \"get\", \"son\", \"bit\", \"fuck\", \"see\", \"call\", \"mother\", \"famili\", \"begin\", \"say\", \"thing\", \"like\", \"im\", \"let\", \"take\", \"head\", \"agent\", \"pussi\", \"finger\", \"goe\", \"want\", \"care\", \"moron\", \"arti\", \"kill\", \"somali\", \"greek\", \"men\", \"ad\", \"internet\", \"recent\", \"pool\", \"sometim\", \"lang\", \"candid\", \"aw\", \"everytim\", \"sock\", \"kindli\", \"malici\", \"fat\", \"miss\", \"2007\", \"puppet\", \"absolut\", \"leno\", \"track\", \"repost\", \"stay\", \"nigger\", \"hard\", \"jay\", \"defend\", \"shut\", \"keep\", \"find\", \"muslim\", \"page\", \"editor\", \"busi\", \"french\", \"part\", \"wikipedia\", \"peopl\", \"three\", \"cant\", \"vietnam\", \"human\", \"woman\", \"languag\", \"harass\", \"look\", \"say\", \"contribut\", \"racist\", \"get\", \"right\", \"think\", \"stupid\", \"edit\", \"groin\", \"peac\", \"address\", \"dear\", \"91108208101\", \"research\", \"sick\", \"mokel\", \"restor\", \"juli\", \"vandil\", \"stuff\", \"knee\", \"2005\", \"laurent\", \"bigger\", \"wimp\", \"wil\", \"shinobi\", \"ar\", \"fall\", \"lazi\", \"bohemian\", \"userth\", \"2119\", \"23\", \"imbecil\", \"crawl\", \"muchacho\", \"pervert\", \"fire\", \"cur\", \"go\", \"peopl\", \"die\", \"exist\", \"like\", \"fuck\", \"edit\", \"shit\", \"right\", \"wikipedia\", \"delet\", \"youv\", \"person\", \"wikipedian\", \"dick\", \"your\", \"ignor\", \"make\", \"tell\", \"sir\", \"moron\", \"stupid\", \"yeah\", \"leav\", \"know\", \"dagizza\", \"world\", \"el\", \"asshol\", \"that\", \"im\", \"talk\", \"histori\", \"pov\", \"ludim\", \"capoeira\", \"brawl\", \"modern\", \"reason\", \"push\", \"fcking\", \"unconstruct\", \"jsu\", \"unhistor\", \"brown\", \"blatant\", \"idioci\", \"neither\", \"denni\", \"italian\", \"trivial\", \"pedantri\", \"seriou\", \"street\", \"til\", \"work81103121144\", \"hebrew\", \"indic\", \"lydia\", \"genesi\", \"eulenspiegel\", \"anamim\", \"pashtun\", \"articl\", \"son\", \"shove\", \"get\", \"time\", \"best\", \"take\", \"say\", \"ban\", \"ill\", \"daughter\", \"page\", \"tell\", \"life\", \"dog\", \"bit\", \"fuck\", \"name\", \"good\", \"thought\", \"well\", \"one\", \"face\", \"see\", \"peopl\", \"fucker\", \"hello\", \"neutral\", \"cours\", \"twat\", \"calton\", \"proof\", \"suspect\", \"due\", \"fin\", \"disput\", \"univers\", \"dub\", \"barri\", \"com\", \"undelet\", \"depaaart\", \"willi\", \"ugli\", \"tosser\", \"cdvf\", \"sentenc\", \"award\", \"bye\", \"peddl\", \"fix\", \"dejay\", \"gay\", \"true\", \"sad\", \"dont\", \"block\", \"suck\", \"fuck\", \"say\", \"plea\", \"daughter\", \"mother\", \"pussi\", \"anymor\", \"go\", \"care\", \"come\", \"get\", \"head\", \"page\", \"father\", \"son\", \"begin\", \"like\", \"see\", \"dog\", \"noth\", \"ridicul\", \"one\", \"back\", \"wikipedia\", \"think\", \"shit\", \"hardi\", \"as\", \"pull\", \"fagget\", \"sidaway\", \"oif\", \"quit\", \"crash\", \"obvious\", \"advic\", \"bust\", \"conndom\", \"plane\", \"rest\", \"nut\", \"mobil\", \"textmediaexampleoggmatt\", \"fuckyital\", \"toni\", \"mailbox\", \"spend\", \"sex\", \"dri\", \"jeezz\", \"addit\", \"wpalso\", \"porn\", \"filthi\", \"fucki\", \"fistfucke\", \"like\", \"sorri\", \"littl\", \"life\", \"look\", \"joke\", \"one\", \"im\", \"mother\", \"get\", \"think\", \"head\", \"hate\", \"fuck\", \"dont\", \"take\", \"love\", \"know\", \"suck\", \"time\", \"real\", \"run\", \"burn\", \"hahahaha\", \"stink\", \"ago\", \"713918386\", \"mardyk\", \"cockblock\", \"scum\", \"murder\", \"luck\", \"startl\", \"simpl\", \"newfound\", \"everyon\", \"crisi\", \"faith\", \"2477205229\", \"would\", \"refer\", \"stomp\", \"nanodiamond\", \"le\", \"peer\", \"al\", \"havent\", \"god\", \"discus\", \"retroact\", \"secondari\", \"cunt\", \"verif\", \"includ\", \"guess\", \"list\", \"dead\", \"capoeira\", \"made\", \"fuck\", \"never\", \"edit\", \"ignor\", \"mother\", \"know\", \"attempt\", \"time\", \"articl\", \"good\", \"page\", \"wikipedia\", \"cur\", \"dont\", \"asshol\", \"long\", \"anymor\", \"piss\"], \"Freq\": [26.0, 6.0, 4.0, 14.0, 14.0, 10.0, 4.0, 12.0, 7.0, 3.0, 7.0, 5.0, 2.0, 3.0, 5.0, 3.0, 15.0, 5.0, 5.0, 2.0, 12.0, 5.0, 3.0, 5.0, 4.0, 10.0, 12.0, 5.0, 14.0, 9.0, 4.15709584143281, 5.470446812011991, 3.3418201904275238, 2.5268569994427876, 2.5266725941300847, 1.711885805038811, 1.7117930307096567, 1.7117683671115893, 1.7117337400732429, 2.595821809697226, 5.156717351169561, 0.8966998249960352, 0.8967043983784583, 0.8966876565320879, 0.8966738547172753, 0.8966727930392129, 0.8966712413558907, 0.8966642996147128, 0.8966666679734676, 0.8966617679208715, 0.8966639729445398, 0.8966586645542273, 0.8966550711823233, 0.896660706242809, 0.8966530294937416, 0.8966543361744339, 0.8966539278367176, 0.8966492727867512, 0.8966524578209387, 0.8966433927236358, 0.8966498444595541, 1.7116613826299059, 1.711790417348272, 2.526905673298576, 2.9407162583917157, 1.7117855172956757, 1.711757096990618, 1.1957140195544145, 1.5924625398401064, 1.3853291498451845, 1.1697909446346622, 2.107439120828751, 3.8828692979401045, 2.4139004969903506, 2.81680732171138, 3.3745809620750746, 4.210364966546246, 1.7964497693981067, 1.2254178933898374, 1.0838485138125171, 1.2178669123391215, 1.7117213266066658, 1.4943487867067629, 1.7829097807292513, 1.4423655987296515, 1.742679858909341, 1.5027930473457625, 1.4635365809727958, 1.309268180358531, 1.6900355221876726, 1.2028999789670451, 1.1918363183927645, 2.2632132400138434, 1.1112130389379689, 0.7666115948253122, 0.7665968125388938, 0.7665898426525515, 0.766586625781932, 0.7665816472916875, 0.7665808813701114, 0.7665792729348017, 0.7665763624328126, 0.7665648736091714, 0.766573145562193, 0.7665642608719105, 0.7665638779111225, 0.766559282381666, 0.7665529252325846, 0.7665702350602039, 0.7665476403737097, 0.7665577505385138, 0.7665327049029761, 0.7665441937266173, 0.7665152418910416, 0.7665049785419221, 0.7665280327813621, 0.7665139398243622, 2.7185240524190353, 1.46351819885497, 1.065542131054521, 1.0648680434754152, 2.160369886307623, 1.4172202309771875, 1.3938927107189127, 1.4634687203211554, 1.3538832653493562, 1.0552928748920833, 1.892097122780538, 1.325095183806595, 3.2816390925787005, 1.0141986547943285, 1.4051070280672078, 4.16896873589194, 0.9949900309957251, 1.259763222249555, 1.432306281892554, 2.8565520051184694, 2.5640537548773166, 1.1866630542914647, 1.8799496065839503, 2.8680454242890874, 2.2583753729707077, 1.9821802230293084, 1.6010527448750953, 2.126468512322969, 1.4633921281635476, 1.5762872834498927, 1.6941139013959696, 1.7563321619697823, 1.4361433958043868, 1.3200843716715813, 1.4314305467637367, 1.431397889148077, 1.3827884732655737, 1.431424333146598, 1.5211280117362778, 1.135652472518898, 0.7498586660515583, 0.7498443602818665, 0.7498415424787455, 0.7498396639433313, 0.749829259747192, 0.7498286094849332, 0.7498275979658641, 0.7498206618351044, 0.7498324388071235, 0.7498197948187595, 0.7498114136607583, 0.7498114136607583, 0.7498111969066721, 0.7498097518794304, 0.7498094628739822, 0.7498007927105327, 0.7497986974210323, 0.7497971078910666, 0.7498097518794304, 0.7497932785688763, 0.7497906775198415, 0.7497815015968574, 0.74978020107234, 0.7497799843182538, 3.0703684504467534, 1.1043573007937402, 1.1335170112612791, 1.3851678551215725, 1.402001844475176, 1.4006172193722866, 2.914185282088748, 1.407335151018429, 1.2987097077164993, 1.2608979688913142, 1.6645313591696786, 1.0062669008479697, 1.431470718521053, 3.5043916306320586, 1.2155163103583462, 3.057775905052659, 2.2196252797750904, 2.824264704910106, 2.2947333162083865, 3.148262354899107, 0.9344910972337758, 0.9486874783633089, 2.2715958290215275, 1.051900788885957, 1.8248045326322746, 1.9815532846526376, 1.3760569583633602, 1.6042284938427969, 1.40604748724345, 1.3149860610575743, 1.5486995650139495, 1.3510916562186164, 1.9513419294588719, 1.0222159562892075, 1.02221456388629, 1.0221965892304468, 1.0221950069544044, 1.0221943740439872, 1.0221895006337762, 1.022171525977933, 1.0221688677541816, 1.0221882981039838, 1.0221745639479347, 1.022171525977933, 1.022151399426672, 1.0221546905608405, 1.0221258931368662, 1.0221495006954209, 1.02211450074936, 1.022130196927702, 1.0221145640404017, 1.0221089311376903, 1.022040703394736, 1.3847269798950872, 1.9514496508118477, 2.1235387526906826, 1.022180829761063, 2.20370571775145, 0.6637592302326414, 1.0221323488231198, 1.0221184880849872, 0.6383773073238869, 2.40922818582701, 2.588492466521459, 5.778380461917085, 2.2468732461618637, 1.5134543764475683, 6.854894245919287, 2.447191924788728, 1.6978110543573182, 2.07253224901929, 1.3855129280509362, 1.474437474551938, 2.109288015159093, 1.6552832717964232, 2.389707456417105, 1.8648500374367083, 1.4180893335430236, 1.646822272177602, 1.4261780552545567, 1.1185582761686648, 1.1227989025447476, 1.1351743265107221, 1.0917909756481066, 1.1047838670169208, 1.0942552756477955, 1.082361749673336, 1.4950207707963603, 1.8010080927290457, 1.30244456714172, 1.2295545828365804, 1.65837235934477, 1.210258312807341, 1.5212606109246167, 0.7831415468946494, 0.7831352875937551, 0.7831441600008481, 0.7831169958503645, 0.7831165704609833, 0.7831156589123094, 0.7831151727530166, 0.7831269013459548, 0.7831058141866307, 0.783104720328222, 0.7831030187706973, 0.78310350492999, 0.7831038695494597, 0.7831135319654035, 0.7830940855936926, 0.7830884339919141, 0.7830987041069739, 0.783076705398976, 0.7830940855936926, 0.783083937018456, 0.7830822354609313, 0.7830523974343374, 0.7830828431600473, 1.4949744641237237, 2.0507460552490637, 1.0335481607519637, 1.6128290783377057, 3.5809402077978367, 1.1604463101300917, 1.0118202434801016, 1.003316284361021, 1.3657532025650845, 3.1814835356173234, 2.5177027851955756, 1.1304999915537408, 1.4950775298937915, 1.0817389437276415, 0.9150541255281633, 1.1657291600849993, 0.9330104190066997, 1.0615542175908612, 1.4684509500481346, 1.6423737077984035, 1.0592958861361117, 1.0494290402096562, 1.515955762261711, 1.1464692304628947, 1.1464768874717557, 1.0762726901795354, 1.0558396581839717, 1.3915137501362962, 0.7289540121849598, 0.7289467439149473, 0.7289455748924978, 0.7289477096291448, 0.728946133990191, 0.7289452699301197, 0.7289370867729726, 0.7289384591036743, 0.7289403397050063, 0.7289310383524727, 0.7289344945927584, 0.7289280395557542, 0.7289240750448384, 0.7289193481279771, 0.7289057264750864, 0.7289046591067629, 0.7288925622657632, 0.7288958660248597, 0.7288975941450025, 0.7288758909890911, 0.7288781782069271, 0.728877924071612, 0.7288735021171289, 0.7288718248240491, 0.7288485968562468, 0.7288445815182679, 0.7288082909952683, 0.7288056479879911, 0.7288169824230456, 1.3915903973473371, 1.7994412875965995, 3.0832005459253975, 2.531780585487249, 1.391439136007776, 1.1269654946115457, 2.547819370187033, 3.1334609888513807, 1.951818382845268, 1.4677728457241086, 1.4301710861526495, 1.8612134503728939, 1.2515711908942133, 1.0895375635956308, 0.9649432525750806, 0.8400992790209538, 0.9084437876628305, 0.8944029131564161, 0.8405001520670287, 0.9734900265309161, 0.8831114777972533, 0.7777535328384272, 0.8885339121889677, 0.9442550114580595, 0.7739111085278949, 0.8004706886572637, 0.9364455348784586, 0.8119115047546557, 0.9048711534028326, 0.821310038632657, 0.8280065550132085, 0.8120039083552343, 0.8424430165511433, 0.8166373034205552, 1.707227953236795, 2.026416610529672, 1.155335787153593, 1.9549009470823981, 0.8705951515465996, 0.6058036853812915, 0.6057987755841082, 0.605793910019332, 0.6057918753286075, 0.6057875405527159, 0.6057809056916574, 0.6057809499240645, 0.6057826749879397, 0.6057737842741213, 0.6057724130695026, 0.6057677686667617, 0.6057496333798685, 0.6057359655660881, 0.6057184937653008, 0.6057176533495668, 0.6056725362943693, 0.8425602096301932, 0.6055391313546873, 0.6054823811764339, 0.6054934835106051, 0.6054634054738067, 0.6054265156463217, 0.6054162094954776, 0.6053984723002479, 0.6053948452428694, 0.8730770319065333, 2.0048469426230686, 1.1446560493994575, 0.9308238547556676, 1.4246875260216, 1.0543006537442867, 0.6910605884047012, 1.0950831099799003, 1.0883901275385708, 0.8283126859228898, 0.8411772391911683, 0.8225131096392849, 0.8583553367955854, 0.7298465264830111, 0.7504202132799255, 0.7411050895158864, 0.6973076197180884, 0.8860534046998504, 0.6909122329114341, 0.7156452698734885, 0.667440881128256, 0.6897924010619877, 0.7513519247021612, 0.6757355632615043, 0.694698880814717, 0.6759240375479715, 0.9378339797536146, 0.7716800930950009, 0.49128424313658803, 0.49128365599252033, 0.4912698161680669, 0.4912699000457909, 0.4912688935131034, 0.49126495126007724, 0.49126159615111886, 0.4912611348236371, 0.491252914806689, 0.4912548020554781, 0.4912481337764233, 0.4912511533744858, 0.4912473369380457, 0.4912502726583843, 0.49124716918259775, 0.49124003957606116, 0.4912387394713398, 0.49123999763719917, 0.49123500691262356, 0.4912315679259412, 0.4912386975324778, 0.49122896771649843, 0.4912114792110528, 0.4912171828962821, 0.4912070336916829, 1.346323863612917, 0.572230776155036, 0.756645933730143, 3.390158439642903, 1.505002064245876, 1.1805776226927485, 3.458990512989815, 1.9092376699459292, 0.9379057790853244, 1.2156075604278673, 1.4147655700325192, 0.8580017622979745, 0.772714305431427, 1.7761453624742662, 1.0357774108775835, 0.6803619117534568, 1.31132764472283, 0.8797125884900447, 1.145699587515721, 0.7978640344281314, 0.8206849822968114, 0.743664346148309, 1.1110648816159014, 0.9287693980029865, 0.7802709334607032, 0.6149731447916867, 0.5569405800377903, 0.9242372329442584, 0.7460803601092515, 0.9354552075021103, 0.7864921442468128, 0.7292577599141195, 1.2400508643766885, 2.430583962400999, 0.6496425266585032, 0.649635524111795, 0.6496408998042175, 0.6496317045408633, 0.6496343216542795, 0.6496334728607391, 0.6496384241563913, 0.6496225092775092, 0.6496281679011117, 0.6496224385447141, 0.6496257629860807, 0.6496160725931612, 0.6496225092775092, 0.6496295825570123, 0.6496208824232235, 0.649619962896888, 0.6496090700464531, 0.6495952771514218, 0.6495939332283163, 0.6495937917627262, 0.6496039772852108, 0.6495906087869497, 0.6495961259449623, 0.6495965503417325, 0.6495894770622292, 0.6495903965885647, 0.649586647750428, 0.6495674791629743, 2.0689897091938034, 1.1093186930278358, 1.184262282080759, 1.240244672235076, 1.1583131781625684, 0.7237121412960124, 1.0657717648352785, 0.9247051784682928, 0.8584274177987005, 0.9264548248862015, 0.7173831829949449, 0.6834238022377789, 0.6663352540876418, 0.682847188492679, 0.6692625308100362, 0.6671653034373409, 0.6543352232120982, 0.6606369493870785, 0.6543588479656389, 0.6500025565852154, 0.6496794491775099, 0.6496544805008636, 0.6496396266139068, 0.4494857654714582, 0.4494893115216217, 0.4494758708476147, 0.44947898794009716, 0.44946677694477594, 0.44943480529894647, 0.44940623671738694, 0.4493688316075972, 0.6234348540814166, 0.3882945805028338, 0.5816301255371743, 0.38146194237842534, 0.37728406614783055, 0.36187662117309705, 0.35632241992418484, 0.3544759000930521, 0.9532297016897608, 0.784693143905245, 0.31982312577101013, 0.31103910196103557, 0.30942270362721, 0.304129880591966, 0.302001449772831, 0.30173958540712426, 0.895697783115312, 0.2981389432293623, 0.29775888672393014, 0.29790873594051887, 0.4494646607535493, 0.2976568519901918, 0.5612561799337796, 0.449450047595214, 0.5380016977104324, 0.7361875816333991, 0.6732857992241852, 0.7049492246611753, 3.1832729886218103, 0.6056157804265027, 1.3731001716654667, 0.578986373557175, 0.9813199668377565, 0.8517761770121449, 0.48069501051572644, 0.6992245270326252, 0.6365956760972897, 0.6373803826818689, 0.6993302793995995, 0.713140600538977, 0.5526376193999849, 0.6264495114696519, 0.5143721348907534, 0.4747673873068493, 0.47632956538978705, 0.4495074993272993], \"Total\": [26.0, 6.0, 4.0, 14.0, 14.0, 10.0, 4.0, 12.0, 7.0, 3.0, 7.0, 5.0, 2.0, 3.0, 5.0, 3.0, 15.0, 5.0, 5.0, 2.0, 12.0, 5.0, 3.0, 5.0, 4.0, 10.0, 12.0, 5.0, 14.0, 9.0, 4.725137885830167, 6.2682001802291785, 3.909860563736431, 3.0949011809517475, 3.0947148961684223, 2.2799187986676013, 2.2798267818878473, 2.2798022066469628, 2.2797680535284917, 3.778597248941828, 7.519698979996296, 1.4647309109614637, 1.4647388758642137, 1.46471900501211, 1.4647051391371197, 1.4647041876668627, 1.4647025296967988, 1.4646957698122598, 1.4647007919693662, 1.4646933280857848, 1.464698392273914, 1.4646902223992373, 1.4646867032335142, 1.4646969543507398, 1.4646844515791768, 1.4646887044374568, 1.4646881611247424, 1.4646807286171415, 1.46468705239577, 1.4646751089452357, 1.4646857823008543, 2.959492986650188, 2.9917178843498045, 5.079226428923592, 6.4299156427674005, 3.423768412442212, 3.5678471751910186, 2.197640720789369, 3.4370565553166075, 2.8123450739656692, 2.1934916165272997, 5.449305263163148, 14.613916689883698, 7.428317877799714, 10.236924687310703, 15.670116941366548, 26.16764448095453, 5.364292394715212, 2.7536219193732374, 2.144436231491909, 2.8862183605770704, 8.03354158768965, 5.584844389202766, 10.599252522586909, 4.9283715403909865, 12.872378320878779, 14.274285849969633, 2.0434116333175107, 1.9796036638544725, 2.594895637689122, 1.9355383603443486, 1.986675370447759, 3.8784481030537385, 1.9168231056907217, 1.3464770361189988, 1.3464635029719987, 1.3464570219913752, 1.3464545922128874, 1.346450825022201, 1.3464498124333766, 1.3464476416897366, 1.3464522480232368, 1.3464333523669194, 1.3464481382686637, 1.3464331949751627, 1.3464331163776482, 1.3464291648940323, 1.3464233175961402, 1.3464554644071671, 1.346418720851287, 1.3464391796683202, 1.346406292960177, 1.3464348627063674, 1.3463891348667085, 1.3463768214217062, 1.346417712376014, 1.346396302054196, 4.857534471524696, 2.5940983662882777, 1.9004023853981091, 1.9001592039212096, 4.092118914274095, 2.6035854862601715, 2.5958589548435143, 2.7875711975370203, 2.567027708163737, 1.9587486686976632, 3.96589263822753, 2.5939120725232097, 8.446156379559124, 1.959784485738901, 3.1037852033257463, 14.660356664835863, 1.954303268180288, 2.761828532793603, 3.3594937593714067, 10.025491561133192, 9.048408512326514, 2.6759135846466595, 5.561515395476388, 12.48415155634663, 11.74665228884998, 12.106504438065736, 6.536379192146834, 15.670116941366548, 5.079226428923592, 6.465728415035387, 10.236924687310703, 26.16764448095453, 8.236171250207159, 14.274285849969633, 2.0128237873128727, 2.012793167239645, 2.0114819279324117, 2.459433277998731, 2.677867522009089, 2.0017531052430915, 1.3312442859291165, 1.331230369219984, 1.3312270855095485, 1.3312256620980332, 1.331216257306901, 1.3312153011084773, 1.3312144548817908, 1.3312072343038952, 1.3312282357967835, 1.331206690836789, 1.3311983311530518, 1.3311985490920497, 1.3311984421621887, 1.3311972222224475, 1.331196942251658, 1.3311882096941112, 1.3311859042187506, 1.3311845870958188, 1.3312095225334608, 1.3311815171330823, 1.3311781978969004, 1.331169122383969, 1.3311672874042901, 1.331168049381595, 5.729695177755541, 1.995322155849386, 2.0599576601104035, 2.5622667867125397, 2.602622225194243, 2.7191288718060793, 6.500879817684597, 2.827290637313815, 2.6668836915008565, 2.6073379551461486, 3.981685122753661, 1.9983561142965343, 3.302873781650494, 11.74665228884998, 2.7010846900139067, 10.599252522586909, 8.03354158768965, 12.872378320878779, 9.048408512326514, 15.670116941366548, 1.9703610940851213, 2.0312233861326097, 12.106504438065736, 2.683910103100594, 10.025491561133192, 14.613916689883698, 5.853983903344669, 12.48415155634663, 7.428317877799714, 6.465728415035387, 26.16764448095453, 8.446156379559124, 2.5079721511348616, 1.5788351029390544, 1.5788449629686274, 1.57881755443659, 1.5788151394977814, 1.5788144738339827, 1.5788200204428977, 1.5787932825426871, 1.5787895031283923, 1.5788195313543203, 1.578806195252757, 1.5788025519569193, 1.578772356726763, 1.5787786275111237, 1.5787479029070108, 1.5787847121493541, 1.5787372632181815, 1.5787641578955882, 1.5787519256173788, 1.5787435723587897, 1.5786815853834784, 2.2634762395531807, 3.9317298481237937, 4.356824942554541, 2.1693166020570662, 4.762045048876352, 1.448182194025424, 2.2414335580151037, 2.301218473850041, 1.4389181460665168, 5.437751572976027, 5.9465835562218095, 14.274285849969633, 5.323889605268943, 3.468040571929229, 26.16764448095453, 8.236171250207159, 4.253856578950742, 7.960799629755784, 3.3396092515427758, 3.979098435918111, 10.212388919008948, 5.4500431770629385, 14.660356664835863, 10.599252522586909, 5.584844389202766, 10.236924687310703, 5.802880277629373, 2.7214358570810613, 3.146729279241289, 3.4389736975415754, 2.8372346019574164, 5.729695177755541, 5.853983903344669, 4.941727827924384, 2.0733829328249245, 2.6340154608943154, 2.060054325229417, 2.0113929650593882, 2.767800391721236, 2.058719831752636, 2.640839553403341, 1.361498400620346, 1.3614923790307187, 1.3615110846964145, 1.3614741378862423, 1.3614741087489028, 1.3614726953456366, 1.3614721914780334, 1.3614932620890656, 1.36146325039879, 1.361462201758883, 1.3614600388163838, 1.3614609985288035, 1.3614618724068792, 1.361482550130346, 1.3614519332354886, 1.3614465751304743, 1.361467039417106, 1.3614351183864692, 1.3614709057672856, 1.3614549092546364, 1.3614548350714764, 1.3614113208227638, 1.3614655858192843, 2.755006720548714, 3.9734425728444447, 1.9220427327640566, 3.4058758832991667, 12.872378320878779, 2.503333299670426, 2.0561936306399353, 2.0296805659506276, 3.447446111441738, 14.613916689883698, 12.106504438065736, 2.7433835414991328, 5.0481561277205405, 2.74770603841348, 1.9168311797980402, 3.306011735284512, 2.0200681696290896, 2.7173061642681784, 6.536379192146834, 10.212388919008948, 3.315135265228109, 3.56453858164183, 14.274285849969633, 6.4976688165508, 8.446156379559124, 8.03354158768965, 10.025491561133192, 1.9748195373483124, 1.3122428475678094, 1.3122332902342342, 1.31223227008594, 1.3122374773863754, 1.312237261429985, 1.312236799402415, 1.3122241908311716, 1.312227486537212, 1.3122355177956226, 1.3122190217555139, 1.312226982508246, 1.3122180564987955, 1.3122220922455343, 1.3122185621374312, 1.3121947900608082, 1.31220103932162, 1.3121862195774112, 1.3121938382691132, 1.3121986389648976, 1.312170874389286, 1.3121752983237325, 1.3121762014726086, 1.3121741226871142, 1.3121761720216627, 1.3121559935119602, 1.3121803220544654, 1.3121205729375927, 1.3121162053338664, 1.3121559814086332, 2.7900065030426653, 4.991670729841921, 15.670116941366548, 12.106504438065736, 4.400694422993259, 3.0049040098462707, 14.660356664835863, 26.16764448095453, 10.025491561133192, 6.01975269985879, 6.4976688165508, 14.613916689883698, 5.338565725454239, 3.8669673600654457, 3.4014684922118525, 2.5148834120796324, 3.9492926595937354, 4.073156074549125, 2.9931101597231544, 7.428317877799714, 4.4422262144867615, 2.011445361532892, 4.941727827924384, 8.03354158768965, 2.0217411040809, 2.678071399722301, 9.048408512326514, 3.0394002395284434, 7.519698979996296, 3.3578508597688446, 3.870547283672297, 3.451517551643967, 10.599252522586909, 6.500879817684597, 2.3017192344752475, 2.899375365883355, 1.7512833993109063, 3.182940201597029, 1.6772312817958754, 1.2002863610431245, 1.2002818486703246, 1.200276421709472, 1.2002742148189935, 1.200270800154645, 1.2002645730130923, 1.2002646841085238, 1.2002724215766147, 1.2002570947458153, 1.2002555268937543, 1.2002516052857155, 1.2002417495236883, 1.200221505614344, 1.2002035083258558, 1.2002035269803377, 1.2001706823697125, 1.6699927572083375, 1.200385795597002, 1.2003720432286182, 1.200396464410193, 1.2003776601800662, 1.2003704226979113, 1.2003865196575179, 1.200369588295249, 1.2004028299737346, 1.8085051396365497, 5.022178855950635, 5.323889605268943, 4.026232918778537, 14.274285849969633, 6.339679531972763, 1.8922355858007578, 10.236924687310703, 10.212388919008948, 3.835593252481381, 5.449305263163148, 5.9465835562218095, 12.872378320878779, 4.4422262144867615, 5.835698205964215, 5.437751572976027, 3.468040571929229, 26.16764448095453, 3.755213574089616, 5.561515395476388, 2.986674250987881, 4.277221266573305, 11.74665228884998, 3.8275662095167267, 8.236171250207159, 12.106504438065736, 1.5427590155840711, 1.6415874208047117, 1.0961863578103856, 1.0961913723356056, 1.0961764608239728, 1.0961770948304639, 1.0961761548267512, 1.0961743754997149, 1.0961671725264204, 1.0961724391428593, 1.096158361061089, 1.0961629025463024, 1.096159982019011, 1.0961681090560558, 1.0961600238181237, 1.0961669099137772, 1.096161602370327, 1.0961496915659683, 1.0961480082372832, 1.0961548308288926, 1.0961449724643375, 1.0961463256105253, 1.0961643212458552, 1.0961446628431541, 1.09612141080683, 1.09614089323357, 1.0961311832699234, 3.96589263822753, 1.701699729137958, 2.3130342623663904, 12.48415155634663, 5.201729269353418, 4.177509995912467, 26.16764448095453, 10.212388919008948, 3.209451523330374, 5.9465835562218095, 7.960799629755784, 3.146729279241289, 2.7338265713684686, 15.670116941366548, 5.853983903344669, 2.416441750004591, 14.274285849969633, 5.802880277629373, 12.872378320878779, 4.762045048876352, 5.323889605268943, 3.979098435918111, 14.660356664835863, 8.236171250207159, 5.437751572976027, 2.461174130477172, 1.7175294890402368, 11.74665228884998, 5.364292394715212, 14.613916689883698, 8.446156379559124, 6.01975269985879, 1.8306112433211066, 4.35119223062006, 1.2401406363479912, 1.2401377330264671, 1.240150877998205, 1.2401339492152734, 1.2401409632598923, 1.2401406397471544, 1.240150264759389, 1.2401221633755204, 1.2401361557745265, 1.2401253176552183, 1.2401334575319882, 1.2401158324574053, 1.2401306171971551, 1.2401442288568174, 1.2401349401099284, 1.2401369306674086, 1.2401213708348493, 1.240096794411319, 1.2400950336373835, 1.2400969996435491, 1.240125791416487, 1.2401026713706405, 1.2401139869609024, 1.240115743855391, 1.2401107086117782, 1.2401140033331584, 1.240107383296133, 1.2400884563739722, 14.660356664835863, 3.981685122753661, 4.9283715403909865, 5.835698205964215, 6.536379192146834, 1.9965819242440805, 11.74665228884998, 10.599252522586909, 7.960799629755784, 14.274285849969633, 8.446156379559124, 5.802880277629373, 3.1513969364677044, 26.16764448095453, 12.48415155634663, 10.236924687310703, 1.9233105933791539, 9.048408512326514, 4.177509995912467, 6.339679531972763, 2.6650899660243423, 2.602622225194243, 5.079226428923592, 1.058193589103064, 1.0582052931380097, 1.0581767968077487, 1.0581886818707302, 1.0581794904334956, 1.058151434189452, 1.0581579933043856, 1.058137860868987, 1.6229843056473356, 1.099049534303448, 1.6494424188264085, 1.103607933947092, 1.106449281927843, 1.1166723056947292, 1.1203955280586468, 1.1216286850098314, 3.235047659714442, 2.7664054459732856, 1.143719371221085, 1.1498799407011566, 1.1515629856913654, 1.1538809112403055, 1.1565482869159425, 1.1568716482598382, 3.472368757757746, 1.1579040312083557, 1.157823995852028, 1.158991716954545, 1.748896130749038, 1.159011701345015, 2.376017779726725, 1.8732450250374266, 2.3202257727878703, 3.513450920028447, 3.182940201597029, 3.4329368538128984, 26.16764448095453, 2.928531586737377, 10.025491561133192, 2.9931101597231544, 7.960799629755784, 9.048408512326514, 2.3448852246328196, 6.339679531972763, 5.022178855950635, 5.561515395476388, 12.872378320878779, 14.613916689883698, 4.991670729841921, 12.48415155634663, 3.870547283672297, 2.564424037060012, 2.7338265713684686, 2.847792936884904], \"Category\": [\"Default\", \"Default\", \"Default\", \"Default\", \"Default\", \"Default\", \"Default\", \"Default\", \"Default\", \"Default\", \"Default\", \"Default\", \"Default\", \"Default\", \"Default\", \"Default\", \"Default\", \"Default\", \"Default\", \"Default\", \"Default\", \"Default\", \"Default\", \"Default\", \"Default\", \"Default\", \"Default\", \"Default\", \"Default\", \"Default\", \"Topic1\", \"Topic1\", \"Topic1\", \"Topic1\", \"Topic1\", \"Topic1\", \"Topic1\", \"Topic1\", \"Topic1\", \"Topic1\", \"Topic1\", \"Topic1\", \"Topic1\", \"Topic1\", \"Topic1\", \"Topic1\", \"Topic1\", \"Topic1\", \"Topic1\", \"Topic1\", \"Topic1\", \"Topic1\", \"Topic1\", \"Topic1\", \"Topic1\", \"Topic1\", \"Topic1\", \"Topic1\", \"Topic1\", \"Topic1\", \"Topic1\", \"Topic1\", \"Topic1\", \"Topic1\", \"Topic1\", \"Topic1\", \"Topic1\", \"Topic1\", \"Topic1\", \"Topic1\", \"Topic1\", \"Topic1\", \"Topic1\", \"Topic1\", \"Topic1\", \"Topic1\", \"Topic1\", \"Topic1\", \"Topic1\", \"Topic1\", \"Topic1\", \"Topic1\", \"Topic1\", \"Topic1\", \"Topic1\", \"Topic1\", \"Topic1\", \"Topic2\", \"Topic2\", \"Topic2\", \"Topic2\", \"Topic2\", \"Topic2\", \"Topic2\", \"Topic2\", \"Topic2\", \"Topic2\", \"Topic2\", \"Topic2\", \"Topic2\", \"Topic2\", \"Topic2\", \"Topic2\", \"Topic2\", \"Topic2\", \"Topic2\", \"Topic2\", \"Topic2\", \"Topic2\", \"Topic2\", \"Topic2\", \"Topic2\", \"Topic2\", \"Topic2\", \"Topic2\", \"Topic2\", \"Topic2\", \"Topic2\", \"Topic2\", \"Topic2\", \"Topic2\", \"Topic2\", \"Topic2\", \"Topic2\", \"Topic2\", \"Topic2\", \"Topic2\", \"Topic2\", \"Topic2\", \"Topic2\", \"Topic2\", \"Topic2\", \"Topic2\", \"Topic2\", \"Topic2\", \"Topic2\", \"Topic2\", \"Topic2\", \"Topic2\", \"Topic2\", \"Topic2\", \"Topic2\", \"Topic2\", \"Topic2\", \"Topic2\", \"Topic2\", \"Topic2\", \"Topic2\", \"Topic2\", \"Topic2\", \"Topic2\", \"Topic3\", \"Topic3\", \"Topic3\", \"Topic3\", \"Topic3\", \"Topic3\", \"Topic3\", \"Topic3\", \"Topic3\", \"Topic3\", \"Topic3\", \"Topic3\", \"Topic3\", \"Topic3\", \"Topic3\", \"Topic3\", \"Topic3\", \"Topic3\", \"Topic3\", \"Topic3\", \"Topic3\", \"Topic3\", \"Topic3\", \"Topic3\", \"Topic3\", \"Topic3\", \"Topic3\", \"Topic3\", \"Topic3\", \"Topic3\", \"Topic3\", \"Topic3\", \"Topic3\", \"Topic3\", \"Topic3\", \"Topic3\", \"Topic3\", \"Topic3\", \"Topic3\", \"Topic3\", \"Topic3\", \"Topic3\", \"Topic3\", \"Topic3\", \"Topic3\", \"Topic3\", \"Topic3\", \"Topic3\", \"Topic3\", \"Topic3\", \"Topic3\", \"Topic3\", \"Topic3\", \"Topic3\", \"Topic3\", \"Topic3\", \"Topic3\", \"Topic3\", \"Topic3\", \"Topic3\", \"Topic3\", \"Topic3\", \"Topic4\", \"Topic4\", \"Topic4\", \"Topic4\", \"Topic4\", \"Topic4\", \"Topic4\", \"Topic4\", \"Topic4\", \"Topic4\", \"Topic4\", \"Topic4\", \"Topic4\", \"Topic4\", \"Topic4\", \"Topic4\", \"Topic4\", \"Topic4\", \"Topic4\", \"Topic4\", \"Topic4\", \"Topic4\", \"Topic4\", \"Topic4\", \"Topic4\", \"Topic4\", \"Topic4\", \"Topic4\", \"Topic4\", \"Topic4\", \"Topic4\", \"Topic4\", \"Topic4\", \"Topic4\", \"Topic4\", \"Topic4\", \"Topic4\", \"Topic4\", \"Topic4\", \"Topic4\", \"Topic4\", \"Topic4\", \"Topic4\", \"Topic4\", \"Topic4\", \"Topic4\", \"Topic4\", \"Topic4\", \"Topic4\", \"Topic4\", \"Topic4\", \"Topic4\", \"Topic4\", \"Topic4\", \"Topic4\", \"Topic5\", \"Topic5\", \"Topic5\", \"Topic5\", \"Topic5\", \"Topic5\", \"Topic5\", \"Topic5\", \"Topic5\", \"Topic5\", \"Topic5\", \"Topic5\", \"Topic5\", \"Topic5\", \"Topic5\", \"Topic5\", \"Topic5\", \"Topic5\", \"Topic5\", \"Topic5\", \"Topic5\", \"Topic5\", \"Topic5\", \"Topic5\", \"Topic5\", \"Topic5\", \"Topic5\", \"Topic5\", \"Topic5\", \"Topic5\", \"Topic5\", \"Topic5\", \"Topic5\", \"Topic5\", \"Topic5\", \"Topic5\", \"Topic5\", \"Topic5\", \"Topic5\", \"Topic5\", \"Topic5\", \"Topic5\", \"Topic5\", \"Topic5\", \"Topic5\", \"Topic5\", \"Topic5\", \"Topic5\", \"Topic5\", \"Topic5\", \"Topic5\", \"Topic5\", \"Topic5\", \"Topic5\", \"Topic5\", \"Topic5\", \"Topic5\", \"Topic6\", \"Topic6\", \"Topic6\", \"Topic6\", \"Topic6\", \"Topic6\", \"Topic6\", \"Topic6\", \"Topic6\", \"Topic6\", \"Topic6\", \"Topic6\", \"Topic6\", \"Topic6\", \"Topic6\", \"Topic6\", \"Topic6\", \"Topic6\", \"Topic6\", \"Topic6\", \"Topic6\", \"Topic6\", \"Topic6\", \"Topic6\", \"Topic6\", \"Topic6\", \"Topic6\", \"Topic6\", \"Topic6\", \"Topic6\", \"Topic6\", \"Topic6\", \"Topic6\", \"Topic6\", \"Topic6\", \"Topic6\", \"Topic6\", \"Topic6\", \"Topic6\", \"Topic6\", \"Topic6\", \"Topic6\", \"Topic6\", \"Topic6\", \"Topic6\", \"Topic6\", \"Topic6\", \"Topic6\", \"Topic6\", \"Topic6\", \"Topic6\", \"Topic6\", \"Topic6\", \"Topic6\", \"Topic6\", \"Topic6\", \"Topic6\", \"Topic6\", \"Topic6\", \"Topic6\", \"Topic6\", \"Topic6\", \"Topic6\", \"Topic6\", \"Topic7\", \"Topic7\", \"Topic7\", \"Topic7\", \"Topic7\", \"Topic7\", \"Topic7\", \"Topic7\", \"Topic7\", \"Topic7\", \"Topic7\", \"Topic7\", \"Topic7\", \"Topic7\", \"Topic7\", \"Topic7\", \"Topic7\", \"Topic7\", \"Topic7\", \"Topic7\", \"Topic7\", \"Topic7\", \"Topic7\", \"Topic7\", \"Topic7\", \"Topic7\", \"Topic7\", \"Topic7\", \"Topic7\", \"Topic7\", \"Topic7\", \"Topic7\", \"Topic7\", \"Topic7\", \"Topic7\", \"Topic7\", \"Topic7\", \"Topic7\", \"Topic7\", \"Topic7\", \"Topic7\", \"Topic7\", \"Topic7\", \"Topic7\", \"Topic7\", \"Topic7\", \"Topic7\", \"Topic7\", \"Topic7\", \"Topic7\", \"Topic7\", \"Topic7\", \"Topic7\", \"Topic7\", \"Topic7\", \"Topic7\", \"Topic8\", \"Topic8\", \"Topic8\", \"Topic8\", \"Topic8\", \"Topic8\", \"Topic8\", \"Topic8\", \"Topic8\", \"Topic8\", \"Topic8\", \"Topic8\", \"Topic8\", \"Topic8\", \"Topic8\", \"Topic8\", \"Topic8\", \"Topic8\", \"Topic8\", \"Topic8\", \"Topic8\", \"Topic8\", \"Topic8\", \"Topic8\", \"Topic8\", \"Topic8\", \"Topic8\", \"Topic8\", \"Topic8\", \"Topic8\", \"Topic8\", \"Topic8\", \"Topic8\", \"Topic8\", \"Topic8\", \"Topic8\", \"Topic8\", \"Topic8\", \"Topic8\", \"Topic8\", \"Topic8\", \"Topic8\", \"Topic8\", \"Topic8\", \"Topic8\", \"Topic8\", \"Topic8\", \"Topic8\", \"Topic8\", \"Topic8\", \"Topic8\", \"Topic8\", \"Topic8\", \"Topic8\", \"Topic8\", \"Topic8\", \"Topic8\", \"Topic8\", \"Topic8\", \"Topic9\", \"Topic9\", \"Topic9\", \"Topic9\", \"Topic9\", \"Topic9\", \"Topic9\", \"Topic9\", \"Topic9\", \"Topic9\", \"Topic9\", \"Topic9\", \"Topic9\", \"Topic9\", \"Topic9\", \"Topic9\", \"Topic9\", \"Topic9\", \"Topic9\", \"Topic9\", \"Topic9\", \"Topic9\", \"Topic9\", \"Topic9\", \"Topic9\", \"Topic9\", \"Topic9\", \"Topic9\", \"Topic9\", \"Topic9\", \"Topic9\", \"Topic9\", \"Topic9\", \"Topic9\", \"Topic9\", \"Topic9\", \"Topic9\", \"Topic9\", \"Topic9\", \"Topic9\", \"Topic9\", \"Topic9\", \"Topic9\", \"Topic9\", \"Topic9\", \"Topic9\", \"Topic9\", \"Topic9\", \"Topic9\", \"Topic9\", \"Topic9\", \"Topic9\", \"Topic9\", \"Topic10\", \"Topic10\", \"Topic10\", \"Topic10\", \"Topic10\", \"Topic10\", \"Topic10\", \"Topic10\", \"Topic10\", \"Topic10\", \"Topic10\", \"Topic10\", \"Topic10\", \"Topic10\", \"Topic10\", \"Topic10\", \"Topic10\", \"Topic10\", \"Topic10\", \"Topic10\", \"Topic10\", \"Topic10\", \"Topic10\", \"Topic10\", \"Topic10\", \"Topic10\", \"Topic10\", \"Topic10\", \"Topic10\", \"Topic10\", \"Topic10\", \"Topic10\", \"Topic10\", \"Topic10\", \"Topic10\", \"Topic10\", \"Topic10\", \"Topic10\", \"Topic10\", \"Topic10\", \"Topic10\", \"Topic10\", \"Topic10\", \"Topic10\", \"Topic10\", \"Topic10\", \"Topic10\", \"Topic10\", \"Topic10\", \"Topic10\", \"Topic10\", \"Topic10\", \"Topic10\", \"Topic10\"], \"logprob\": [30.0, 29.0, 28.0, 27.0, 26.0, 25.0, 24.0, 23.0, 22.0, 21.0, 20.0, 19.0, 18.0, 17.0, 16.0, 15.0, 14.0, 13.0, 12.0, 11.0, 10.0, 9.0, 8.0, 7.0, 6.0, 5.0, 4.0, 3.0, 2.0, 1.0, -4.4353, -4.1607, -4.6536, -4.9331, -4.9332, -5.3225, -5.3226, -5.3226, -5.3226, -4.9062, -4.2198, -5.9691, -5.9691, -5.9691, -5.9692, -5.9692, -5.9692, -5.9692, -5.9692, -5.9692, -5.9692, -5.9692, -5.9692, -5.9692, -5.9692, -5.9692, -5.9692, -5.9692, -5.9692, -5.9692, -5.9692, -5.3226, -5.3226, -4.9331, -4.7814, -5.3226, -5.3226, -5.6814, -5.3948, -5.5342, -5.7033, -5.1146, -4.5035, -4.9789, -4.8245, -4.6438, -4.4226, -5.2743, -5.6568, -5.7796, -5.663, -5.3226, -5.4584, -5.2819, -5.4938, -5.3047, -5.4528, -5.4151, -5.5265, -5.2712, -5.6112, -5.6204, -4.9792, -5.6905, -6.0617, -6.0617, -6.0617, -6.0617, -6.0618, -6.0618, -6.0618, -6.0618, -6.0618, -6.0618, -6.0618, -6.0618, -6.0618, -6.0618, -6.0618, -6.0618, -6.0618, -6.0618, -6.0618, -6.0618, -6.0619, -6.0618, -6.0618, -4.7958, -5.4151, -5.7325, -5.7331, -5.0257, -5.4472, -5.4638, -5.4151, -5.493, -5.7421, -5.1583, -5.5145, -4.6076, -5.7818, -5.4558, -4.3683, -5.801, -5.565, -5.4367, -4.7463, -4.8543, -5.6248, -5.1647, -4.7423, -4.9813, -5.1117, -5.3253, -5.0415, -5.4152, -5.3409, -5.2688, -5.2327, -5.434, -5.5182, -5.3789, -5.3789, -5.4135, -5.3789, -5.3181, -5.6104, -6.0255, -6.0255, -6.0255, -6.0255, -6.0255, -6.0255, -6.0255, -6.0255, -6.0255, -6.0255, -6.0255, -6.0255, -6.0255, -6.0255, -6.0255, -6.0255, -6.0255, -6.0255, -6.0255, -6.0256, -6.0256, -6.0256, -6.0256, -6.0256, -4.6158, -5.6383, -5.6123, -5.4118, -5.3997, -5.4007, -4.668, -5.3959, -5.4762, -5.5058, -5.2281, -5.7313, -5.3789, -4.4836, -5.5424, -4.6199, -4.9403, -4.6993, -4.907, -4.5907, -5.8053, -5.7903, -4.9171, -5.687, -5.1361, -5.0537, -5.4184, -5.265, -5.3968, -5.4638, -5.3002, -5.4367, -4.9367, -5.5832, -5.5832, -5.5832, -5.5832, -5.5832, -5.5832, -5.5833, -5.5833, -5.5832, -5.5833, -5.5833, -5.5833, -5.5833, -5.5833, -5.5833, -5.5833, -5.5833, -5.5833, -5.5833, -5.5834, -5.2797, -4.9366, -4.8521, -5.5832, -4.815, -6.015, -5.5833, -5.5833, -6.054, -4.7259, -4.6541, -3.8511, -4.7956, -5.1908, -3.6802, -4.7102, -5.0758, -4.8764, -5.2791, -5.2169, -4.8588, -5.1012, -4.734, -4.982, -5.2559, -5.1063, -5.2502, -5.4931, -5.4894, -5.4784, -5.5174, -5.5055, -5.5151, -5.526, -5.1624, -4.9762, -5.3003, -5.3579, -5.0587, -5.3737, -5.145, -5.809, -5.809, -5.809, -5.809, -5.809, -5.809, -5.809, -5.809, -5.809, -5.809, -5.809, -5.809, -5.809, -5.809, -5.809, -5.809, -5.809, -5.8091, -5.809, -5.8091, -5.8091, -5.8091, -5.8091, -5.1624, -4.8463, -5.5315, -5.0865, -4.2889, -5.4157, -5.5528, -5.5612, -5.2528, -4.4072, -4.6412, -5.4419, -5.1624, -5.486, -5.6533, -5.4112, -5.6339, -5.5048, -5.1803, -5.0684, -5.5069, -5.5163, -5.1485, -5.4279, -5.4278, -5.491, -5.5102, -5.0555, -5.702, -5.702, -5.702, -5.702, -5.702, -5.702, -5.702, -5.702, -5.702, -5.702, -5.702, -5.7021, -5.7021, -5.7021, -5.7021, -5.7021, -5.7021, -5.7021, -5.7021, -5.7021, -5.7021, -5.7021, -5.7021, -5.7021, -5.7022, -5.7022, -5.7022, -5.7022, -5.7022, -5.0554, -4.7984, -4.2599, -4.457, -5.0555, -5.2663, -4.4506, -4.2437, -4.7171, -5.0021, -5.0281, -4.7646, -5.1615, -5.3001, -5.4216, -5.5601, -5.4819, -5.4975, -5.5596, -5.4127, -5.5102, -5.6372, -5.5041, -5.4432, -5.6422, -5.6084, -5.4515, -5.5942, -5.4858, -5.5827, -5.5746, -5.5941, -5.5573, -5.5884, -4.712, -4.5406, -5.1025, -4.5766, -5.3855, -5.7481, -5.7481, -5.7481, -5.7481, -5.7481, -5.7481, -5.7481, -5.7481, -5.7482, -5.7482, -5.7482, -5.7482, -5.7482, -5.7482, -5.7482, -5.7483, -5.4182, -5.7485, -5.7486, -5.7486, -5.7487, -5.7487, -5.7487, -5.7488, -5.7488, -5.3826, -4.5513, -5.1118, -5.3186, -4.8929, -5.194, -5.6164, -5.1561, -5.1622, -5.4353, -5.4199, -5.4423, -5.3996, -5.5618, -5.534, -5.5465, -5.6074, -5.3679, -5.6166, -5.5815, -5.6512, -5.6183, -5.5328, -5.6389, -5.6112, -5.6386, -5.2578, -5.4528, -5.9044, -5.9044, -5.9044, -5.9044, -5.9044, -5.9044, -5.9044, -5.9044, -5.9045, -5.9044, -5.9045, -5.9045, -5.9045, -5.9045, -5.9045, -5.9045, -5.9045, -5.9045, -5.9045, -5.9045, -5.9045, -5.9045, -5.9045, -5.9045, -5.9045, -4.8963, -5.7519, -5.4725, -3.9728, -4.7849, -5.0277, -3.9527, -4.547, -5.2578, -4.9984, -4.8467, -5.3468, -5.4515, -4.6192, -5.1585, -5.5788, -4.9226, -5.3218, -5.0576, -5.4195, -5.3913, -5.4898, -5.0883, -5.2676, -5.4418, -5.6798, -5.779, -5.2724, -5.4866, -5.2604, -5.4338, -5.5094, -4.8081, -4.1351, -5.4545, -5.4545, -5.4545, -5.4546, -5.4546, -5.4546, -5.4545, -5.4546, -5.4546, -5.4546, -5.4546, -5.4546, -5.4546, -5.4546, -5.4546, -5.4546, -5.4546, -5.4546, -5.4546, -5.4546, -5.4546, -5.4546, -5.4546, -5.4546, -5.4546, -5.4546, -5.4546, -5.4547, -4.2961, -4.9195, -4.8541, -4.8079, -4.8762, -5.3466, -4.9595, -5.1015, -5.1759, -5.0996, -5.3554, -5.4038, -5.4292, -5.4047, -5.4248, -5.4279, -5.4473, -5.4378, -5.4473, -5.454, -5.4545, -5.4545, -5.4545, -5.6104, -5.6104, -5.6104, -5.6104, -5.6104, -5.6105, -5.6106, -5.6107, -5.2833, -5.7567, -5.3527, -5.7745, -5.7855, -5.8272, -5.8427, -5.8479, -4.8587, -5.0532, -5.9507, -5.9786, -5.9838, -6.0011, -6.0081, -6.0089, -4.9209, -6.0209, -6.0222, -6.0217, -5.6105, -6.0226, -5.3883, -5.6105, -5.4306, -5.117, -5.2063, -5.1604, -3.6528, -5.3123, -4.4937, -5.3572, -4.8296, -4.9712, -5.5433, -5.1685, -5.2624, -5.2611, -5.1684, -5.1488, -5.4038, -5.2784, -5.4756, -5.5557, -5.5524, -5.6104], \"loglift\": [30.0, 29.0, 28.0, 27.0, 26.0, 25.0, 24.0, 23.0, 22.0, 21.0, 20.0, 19.0, 18.0, 17.0, 16.0, 15.0, 14.0, 13.0, 12.0, 11.0, 10.0, 9.0, 8.0, 7.0, 6.0, 5.0, 4.0, 3.0, 2.0, 1.0, 1.7892, 1.7811, 1.7603, 1.7145, 1.7145, 1.6307, 1.6307, 1.6307, 1.6307, 1.5418, 1.54, 1.4266, 1.4266, 1.4266, 1.4266, 1.4266, 1.4266, 1.4266, 1.4266, 1.4266, 1.4265, 1.4265, 1.4265, 1.4265, 1.4265, 1.4265, 1.4265, 1.4265, 1.4265, 1.4265, 1.4265, 1.3697, 1.359, 1.2191, 1.135, 1.2241, 1.1828, 1.3086, 1.1479, 1.2092, 1.2886, 0.9673, 0.5919, 0.7932, 0.6269, 0.3818, 0.0903, 0.8233, 1.1076, 1.2349, 1.0544, 0.3711, 0.5989, 0.1347, 0.6885, -0.0824, -0.3339, 1.6477, 1.568, 1.5526, 1.5058, 1.4705, 1.4428, 1.4362, 1.4182, 1.4182, 1.4182, 1.4182, 1.4181, 1.4181, 1.4181, 1.4181, 1.4181, 1.4181, 1.4181, 1.4181, 1.4181, 1.4181, 1.4181, 1.4181, 1.4181, 1.4181, 1.4181, 1.4181, 1.4181, 1.4181, 1.4181, 1.401, 1.409, 1.4029, 1.4023, 1.3427, 1.3732, 1.3596, 1.3371, 1.3417, 1.3629, 1.2414, 1.3098, 1.0361, 1.3227, 1.1889, 0.724, 1.3064, 1.1965, 1.1289, 0.7259, 0.7204, 1.1683, 0.8968, 0.5106, 0.3325, 0.1719, 0.5747, -0.0159, 0.737, 0.57, 0.1826, -0.7199, 0.2349, -0.3993, 1.6989, 1.6989, 1.665, 1.4985, 1.4742, 1.473, 1.4658, 1.4658, 1.4658, 1.4658, 1.4658, 1.4658, 1.4658, 1.4658, 1.4658, 1.4658, 1.4658, 1.4658, 1.4658, 1.4658, 1.4658, 1.4658, 1.4658, 1.4658, 1.4658, 1.4658, 1.4658, 1.4657, 1.4657, 1.4657, 1.4159, 1.4482, 1.4424, 1.4247, 1.4212, 1.3764, 1.2374, 1.3422, 1.3202, 1.3133, 1.1676, 1.3537, 1.2037, 0.8302, 1.2413, 0.7967, 0.7535, 0.5229, 0.6678, 0.4349, 1.2938, 1.2785, 0.3665, 1.1031, 0.3361, 0.0417, 0.5919, -0.012, 0.3753, 0.4471, -0.7873, 0.207, 1.9212, 1.7375, 1.7375, 1.7375, 1.7375, 1.7375, 1.7375, 1.7375, 1.7375, 1.7375, 1.7374, 1.7374, 1.7374, 1.7374, 1.7374, 1.7374, 1.7374, 1.7374, 1.7374, 1.7374, 1.7374, 1.6808, 1.4717, 1.4535, 1.4197, 1.4016, 1.392, 1.387, 1.3606, 1.3595, 1.3581, 1.3404, 1.2678, 1.3095, 1.343, 0.8326, 0.9586, 1.2537, 0.8264, 1.2924, 1.1794, 0.5949, 0.9805, 0.3582, 0.4346, 0.8014, 0.345, 0.7688, 1.2831, 1.1416, 1.0638, 1.2172, 0.5262, 0.4951, 0.6536, 1.8858, 1.8327, 1.7543, 1.7207, 1.7006, 1.6816, 1.6613, 1.6598, 1.6598, 1.6598, 1.6598, 1.6598, 1.6598, 1.6598, 1.6598, 1.6598, 1.6598, 1.6598, 1.6598, 1.6598, 1.6598, 1.6598, 1.6598, 1.6598, 1.6598, 1.6598, 1.6598, 1.6598, 1.6598, 1.6598, 1.6015, 1.5514, 1.5924, 1.4653, 0.9334, 1.444, 1.5037, 1.5083, 1.2869, 0.6882, 0.6424, 1.3263, 0.996, 1.2806, 1.4734, 1.1704, 1.4404, 1.2729, 0.7197, 0.3854, 1.0719, 0.99, -0.0296, 0.4781, 0.2158, 0.2027, -0.038, 2.0414, 1.8036, 1.8036, 1.8036, 1.8036, 1.8036, 1.8036, 1.8036, 1.8036, 1.8036, 1.8036, 1.8036, 1.8036, 1.8036, 1.8036, 1.8036, 1.8036, 1.8036, 1.8036, 1.8036, 1.8036, 1.8036, 1.8036, 1.8036, 1.8036, 1.8035, 1.8035, 1.8035, 1.8035, 1.8035, 1.6959, 1.3712, 0.7657, 0.8267, 1.2401, 1.4108, 0.6416, 0.2691, 0.7551, 0.9802, 0.8779, 0.3308, 0.9409, 1.1248, 1.1316, 1.295, 0.9219, 0.8755, 1.1214, 0.3593, 0.776, 1.4413, 0.6756, 0.2505, 1.4312, 1.1838, 0.1232, 1.0715, 0.274, 0.9833, 0.8494, 0.9444, -0.1407, 0.317, 2.2317, 2.1722, 2.1145, 2.043, 1.8747, 1.8467, 1.8467, 1.8467, 1.8467, 1.8467, 1.8467, 1.8467, 1.8467, 1.8467, 1.8467, 1.8467, 1.8467, 1.8467, 1.8466, 1.8466, 1.8466, 1.8463, 1.8462, 1.8461, 1.8461, 1.8461, 1.846, 1.846, 1.846, 1.8459, 1.8022, 1.6122, 0.9934, 1.066, 0.226, 0.7365, 1.5232, 0.2953, 0.2916, 0.9978, 0.662, 0.5523, -0.1773, 0.7244, 0.4794, 0.5375, 0.9264, -0.855, 0.8376, 0.48, 1.032, 0.7058, -0.219, 0.7963, 0.0577, -0.3549, 2.086, 1.8289, 1.7811, 1.7811, 1.7811, 1.7811, 1.7811, 1.7811, 1.7811, 1.7811, 1.7811, 1.7811, 1.7811, 1.7811, 1.7811, 1.7811, 1.7811, 1.7811, 1.7811, 1.7811, 1.7811, 1.7811, 1.7811, 1.7811, 1.7811, 1.7811, 1.781, 1.5034, 1.4939, 1.4663, 1.2801, 1.3435, 1.32, 0.5602, 0.9068, 1.3535, 0.9961, 0.8562, 1.2842, 1.3202, 0.4064, 0.8517, 1.3163, 0.1963, 0.6972, 0.1646, 0.7972, 0.7139, 0.9065, 0.0039, 0.4013, 0.6422, 1.1969, 1.4575, 0.0414, 0.611, -0.165, 0.2098, 0.4729, 2.3647, 2.1718, 2.1076, 2.1076, 2.1076, 2.1076, 2.1076, 2.1076, 2.1076, 2.1076, 2.1076, 2.1076, 2.1076, 2.1076, 2.1076, 2.1076, 2.1076, 2.1076, 2.1076, 2.1076, 2.1076, 2.1076, 2.1076, 2.1076, 2.1076, 2.1076, 2.1076, 2.1076, 2.1076, 2.1075, 0.7961, 1.4762, 1.3283, 1.2055, 1.0237, 1.7394, 0.3543, 0.3151, 0.527, 0.0193, 0.2883, 0.6152, 1.2004, -0.8918, -0.1719, 0.0234, 1.676, 0.137, 0.9004, 0.4766, 1.3427, 1.3663, 0.6977, 2.1104, 2.1104, 2.1104, 2.1104, 2.1104, 2.1103, 2.1103, 2.1102, 2.0098, 1.9262, 1.9243, 1.9043, 1.8907, 1.8398, 1.821, 1.8147, 1.7447, 1.7066, 1.6923, 1.6591, 1.6525, 1.6332, 1.6239, 1.6227, 1.6116, 1.6098, 1.6086, 1.6081, 1.6079, 1.6072, 1.5236, 1.5392, 1.5051, 1.4038, 1.4132, 1.3836, 0.86, 1.3906, 0.9786, 1.3238, 0.8732, 0.6036, 1.3819, 0.762, 0.9011, 0.8004, 0.0539, -0.0534, 0.7658, -0.0255, 0.9484, 1.28, 1.2193, 1.1205]}, \"token.table\": {\"Topic\": [4, 4, 4, 6, 5, 6, 6, 1, 3, 6, 5, 3, 5, 9, 6, 2, 8, 9, 2, 4, 3, 4, 2, 7, 3, 3, 5, 8, 6, 1, 1, 5, 1, 2, 7, 8, 10, 6, 9, 3, 1, 3, 1, 3, 6, 10, 1, 2, 5, 2, 1, 3, 4, 8, 1, 3, 5, 7, 2, 4, 8, 3, 7, 1, 1, 6, 4, 7, 9, 7, 1, 2, 6, 8, 2, 6, 3, 7, 3, 1, 2, 7, 7, 1, 1, 2, 9, 2, 5, 9, 4, 5, 5, 1, 2, 4, 5, 9, 7, 10, 1, 2, 3, 4, 7, 8, 2, 3, 5, 8, 9, 2, 3, 5, 7, 4, 9, 6, 1, 2, 1, 5, 6, 10, 1, 6, 4, 1, 4, 7, 8, 5, 6, 9, 10, 6, 2, 5, 1, 3, 6, 7, 3, 3, 1, 3, 6, 1, 1, 3, 4, 6, 4, 7, 8, 3, 1, 2, 3, 4, 5, 8, 9, 10, 9, 4, 1, 2, 3, 5, 6, 10, 5, 1, 3, 6, 2, 4, 7, 1, 5, 6, 8, 1, 2, 7, 8, 9, 3, 6, 4, 8, 1, 5, 4, 7, 8, 7, 1, 4, 9, 5, 4, 5, 1, 6, 9, 1, 1, 9, 1, 2, 5, 1, 2, 3, 4, 6, 7, 8, 9, 10, 4, 8, 2, 9, 9, 1, 3, 2, 8, 7, 1, 2, 4, 5, 7, 8, 9, 2, 2, 1, 2, 3, 5, 6, 8, 3, 10, 3, 4, 2, 3, 7, 10, 1, 4, 3, 5, 4, 5, 6, 3, 1, 2, 7, 2, 5, 5, 9, 1, 2, 8, 9, 2, 4, 5, 8, 9, 7, 1, 8, 1, 3, 2, 3, 4, 7, 1, 5, 7, 3, 6, 10, 1, 2, 3, 7, 1, 2, 3, 4, 5, 6, 9, 2, 6, 4, 5, 10, 7, 5, 4, 4, 2, 3, 7, 4, 5, 9, 2, 1, 1, 9, 3, 7, 6, 3, 5, 7, 2, 3, 5, 3, 5, 6, 2, 3, 4, 6, 9, 10, 5, 5, 6, 6, 3, 6, 5, 1, 2, 4, 6, 2, 1, 4, 5, 7, 9, 2, 3, 4, 5, 6, 8, 9, 2, 10, 1, 2, 4, 9, 1, 4, 2, 1, 2, 4, 5, 8, 9, 9, 10, 7, 7, 3, 7, 10, 9, 1, 2, 3, 6, 5, 4, 9, 4, 2, 5, 1, 5, 1, 9, 7, 6, 4, 1, 5, 1, 3, 4, 6, 1, 4, 7, 8, 9, 10, 2, 4, 6, 2, 2, 5, 1, 2, 6, 7, 7, 2, 6, 10, 1, 5, 3, 2, 8, 4, 4, 1, 9, 9, 2, 2, 9, 1, 2, 3, 4, 5, 6, 7, 8, 9, 1, 2, 3, 1, 2, 3, 5, 6, 7, 8, 10, 2, 1, 2, 3, 5, 7, 6, 7, 1, 2, 3, 5, 6, 7, 1, 3, 6, 6, 2, 7, 9, 9, 4, 8, 5, 2, 9, 2, 7, 2, 9, 2, 5, 3, 7, 4, 8, 3, 9, 2, 3, 1, 3, 5, 3, 9, 2, 5, 7, 2, 5, 6, 10, 5, 6, 9, 6, 2, 1, 8, 1, 2, 3, 4, 5, 6, 3, 9, 6, 8, 1, 2, 1, 3, 4, 5, 7, 8, 3, 3, 2, 3, 4, 5, 7, 8, 3, 7, 9, 2, 6, 1, 2, 4, 6, 8, 1, 4, 7, 1, 1, 3, 5, 6, 9, 10, 3, 6, 3, 2, 4, 2, 5, 5, 5, 4, 7, 8, 1, 3, 9, 3, 9, 3, 6, 5, 1, 3, 5, 6, 4, 7, 6, 1, 2, 3, 5, 6, 7, 2, 4, 5, 8, 9, 3, 1, 2, 3, 4, 7, 8, 9, 3, 1, 2, 3, 6, 8, 2, 2, 3, 6, 7, 3, 1, 3, 9, 1, 7, 1, 6, 2, 2, 3, 4, 5, 7, 2, 3, 5, 8, 9, 2, 7, 5, 7, 1, 2, 4, 5, 7, 9, 10, 9, 5, 1, 2, 3, 5, 7, 8, 2, 1, 2, 3, 2, 3, 7, 7, 2, 6, 4, 6, 1, 5, 6, 4, 2, 3, 5, 1, 3, 4, 1, 3, 2, 1, 2, 7, 8, 1, 4, 1, 2, 3, 5, 6, 7, 8, 10, 6, 6, 1, 6, 1, 2, 5, 7, 1, 6, 3, 10, 3, 9, 2, 6, 2, 4, 2, 3, 6, 2, 6], \"Freq\": [0.633415088750548, 0.6333844181425287, 0.6333744119623673, 0.7620661212072374, 0.7345045941184796, 0.7620927900704868, 0.7621045096349552, 0.6827356374000977, 0.7511866389176074, 0.7620571864718659, 0.7345099563107611, 0.7511937662131215, 0.48573875112898524, 0.8063774866781883, 0.7620596180893259, 0.515670171898208, 0.257835085949104, 0.8063721700433725, 0.38408571766791294, 0.3674530845171464, 0.7512193478534992, 0.6333854074461793, 0.5102601879323319, 0.8330536841719046, 0.7511965495085049, 0.7512199533819627, 0.36578765107964806, 0.36578765107964806, 0.7620797418208195, 0.6827409131856568, 0.6827324864435138, 0.4823035745922384, 0.19911676359656702, 0.19911676359656702, 0.39823352719313404, 0.19911676359656702, 0.19911676359656702, 0.22982206875688793, 0.45964413751377586, 0.4968220363006325, 0.6827192575212263, 0.7512036485815136, 0.2583613961308387, 0.2583613961308387, 0.2583613961308387, 0.2583613961308387, 0.6827452681435512, 0.5216965493744155, 0.7344987552219182, 0.7427178595559173, 0.3728357540633612, 0.1864178770316806, 0.1864178770316806, 0.1864178770316806, 0.2607158617126737, 0.2607158617126737, 0.2607158617126737, 0.2607158617126737, 0.7426938536927316, 0.25131320978976146, 0.25131320978976146, 0.7512098774715333, 0.528475422142967, 0.4663230294818739, 0.5818932472630693, 0.7620819771382107, 0.5766945220272969, 0.28834726101364844, 0.28834726101364844, 0.8331548335582013, 0.19224376129907686, 0.19224376129907686, 0.19224376129907686, 0.3844875225981537, 0.7426932951550693, 0.7620927729658072, 0.39027942179394526, 0.39027942179394526, 0.751220383389942, 0.6827367755589527, 0.742703019898768, 0.5962206946970735, 0.833144194620795, 0.6827382232141544, 0.5906411226159435, 0.19688037420531448, 0.19688037420531448, 0.48633552069158814, 0.48633552069158814, 0.8063630717833966, 0.47016159639620964, 0.23508079819810482, 0.7344979927080129, 0.1980921300172907, 0.1980921300172907, 0.1980921300172907, 0.1980921300172907, 0.1980921300172907, 0.6283498505553158, 0.3141749252776579, 0.17082383834855625, 0.17082383834855625, 0.17082383834855625, 0.17082383834855625, 0.17082383834855625, 0.17082383834855625, 0.7426950510641772, 0.367764842030377, 0.367764842030377, 0.4138316183281058, 0.806370119022134, 0.5105300215289397, 0.3016468167947264, 0.3016468167947264, 0.3016468167947264, 0.6334176200804604, 0.806360156218963, 0.7621250825762048, 0.6827402928900655, 0.5717892460381327, 0.20033372674636904, 0.20033372674636904, 0.4006674534927381, 0.20033372674636904, 0.8772690868395623, 0.32901227913147363, 0.6333899645231036, 0.682731713625334, 0.5044913556896297, 0.16816378522987657, 0.16816378522987657, 0.2846204551483826, 0.2846204551483826, 0.2846204551483826, 0.2846204551483826, 0.7620602105254648, 0.48937765827264296, 0.734502590749096, 0.18731622900735453, 0.18731622900735453, 0.18731622900735453, 0.8331654855339322, 0.7512028648156615, 0.7512027418314531, 0.25320990015028927, 0.25320990015028927, 0.25320990015028927, 0.4558941518013111, 0.2272368639765315, 0.2272368639765315, 0.2272368639765315, 0.2272368639765315, 0.3677990752537119, 0.18389953762685596, 0.18389953762685596, 0.7511847859855662, 0.08010155880329929, 0.2403046764098979, 0.16020311760659858, 0.08010155880329929, 0.08010155880329929, 0.2403046764098979, 0.08010155880329929, 0.08010155880329929, 0.8063698109671501, 0.44179832000242425, 0.09974573255607717, 0.29923719766823154, 0.19949146511215435, 0.09974573255607717, 0.19949146511215435, 0.09974573255607717, 0.39946738220262323, 0.2978095340627607, 0.2978095340627607, 0.2978095340627607, 0.3737041456561254, 0.6905208502946447, 0.8330767538189537, 0.6827391840404405, 0.7344990270527567, 0.3327893326120456, 0.3327893326120456, 0.2612626262384789, 0.2612626262384789, 0.2612626262384789, 0.2612626262384789, 0.8063620462217304, 0.40659773491139856, 0.7620958668705573, 0.29943622881570264, 0.29943622881570264, 0.6827397008557649, 0.734505583336381, 0.419987627053616, 0.209993813526808, 0.209993813526808, 0.833142949880669, 0.355575142345497, 0.6334117373183535, 0.8063774760322165, 0.5202797955287484, 0.2907844281318207, 0.2907844281318207, 0.3584221036436444, 0.3584221036436444, 0.8063940881475563, 0.8772242244630872, 0.5841516595374445, 0.29207582976872226, 0.5605621266255392, 0.2802810633127696, 0.4926883652411762, 0.15286052983910342, 0.07643026491955171, 0.07643026491955171, 0.267505927218431, 0.11464539737932758, 0.038215132459775855, 0.11464539737932758, 0.038215132459775855, 0.11464539737932758, 0.6334010244213001, 0.6481893736471935, 0.74269971871016, 0.8063817806987477, 0.8063625679317741, 0.7976771411625833, 0.7512142262995881, 0.5043000863719439, 0.25215004318597195, 0.8330650033335179, 0.1401120883399049, 0.07005604416995245, 0.42033626501971477, 0.1401120883399049, 0.07005604416995245, 0.07005604416995245, 0.07005604416995245, 0.5051516211345594, 0.7707439062100759, 0.19144719922800896, 0.127631466152006, 0.19144719922800896, 0.063815733076003, 0.19144719922800896, 0.127631466152006, 0.2879878462694561, 0.2879878462694561, 0.48544687076063736, 0.3524558735150407, 0.35961421623084155, 0.17980710811542078, 0.17980710811542078, 0.17980710811542078, 0.22952494378019908, 0.45904988756039816, 0.3725907208459581, 0.3725907208459581, 0.6333846143531011, 0.49716789179009285, 0.5063753832123564, 0.751202802172573, 0.5338329938871827, 0.3854903935007034, 0.3854903935007034, 0.3680115303714106, 0.3680115303714106, 0.7345083907594334, 0.5462656277505396, 0.31731959513829655, 0.31731959513829655, 0.31731959513829655, 0.31731959513829655, 0.17232821498232356, 0.17232821498232356, 0.17232821498232356, 0.17232821498232356, 0.17232821498232356, 0.8330581017591913, 0.682733296440325, 0.6091664612718564, 0.35369550862662336, 0.35369550862662336, 0.37496948336626734, 0.37496948336626734, 0.6333863762657472, 0.8689157087640907, 0.7939454253400864, 0.5216943518757668, 0.833155921879391, 0.33410063333335327, 0.33410063333335327, 0.33410063333335327, 0.3670192627158978, 0.1835096313579489, 0.1835096313579489, 0.1835096313579489, 0.18869255126604623, 0.09434627563302311, 0.28303882689906934, 0.18869255126604623, 0.09434627563302311, 0.09434627563302311, 0.09434627563302311, 0.5262716923594498, 0.7620903797995626, 0.6333914261542738, 0.42087227146718315, 0.42087227146718315, 0.8330711518323258, 0.757334915490239, 0.6333783674675503, 0.6333951449232633, 0.526204348975553, 0.7512123531835568, 0.8331795383787438, 0.6333985832929698, 0.7345318675590664, 0.806384844647368, 0.7427115603190536, 0.45503343223491544, 0.5008559818443747, 0.5008559818443747, 0.5004113094987688, 0.8331496425739229, 0.7620583244689674, 0.2516709331183654, 0.5033418662367308, 0.2516709331183654, 0.3835329432558915, 0.3835329432558915, 0.7592969857970951, 0.5011722027284918, 0.7345038506967317, 0.7620684649532696, 0.33155001743269485, 0.22103334495512988, 0.11051667247756494, 0.11051667247756494, 0.11051667247756494, 0.11051667247756494, 0.7344979769887886, 0.495032798909758, 0.7620681713045818, 0.7620932975018446, 0.3734030392556724, 0.3734030392556724, 0.7345128470459188, 0.17905601845116934, 0.17905601845116934, 0.17905601845116934, 0.17905601845116934, 0.7427084683778108, 0.1713591012945079, 0.1713591012945079, 0.1713591012945079, 0.1713591012945079, 0.1713591012945079, 0.27284465797440977, 0.06821116449360244, 0.13642232898720488, 0.06821116449360244, 0.20463349348080734, 0.06821116449360244, 0.13642232898720488, 0.4309925403502646, 0.4309925403502646, 0.20290678001940296, 0.20290678001940296, 0.20290678001940296, 0.20290678001940296, 0.43455239533470086, 0.43455239533470086, 0.742734117291213, 0.38995111009271755, 0.30597980031558, 0.15298990015779, 0.15298990015779, 0.15298990015779, 0.15298990015779, 0.5199368232267954, 0.6161489033014061, 0.571009809373788, 0.8330761747298258, 0.2912957746045689, 0.2912957746045689, 0.2912957746045689, 0.8063886661965816, 0.2692399588845281, 0.13461997944226406, 0.13461997944226406, 0.13461997944226406, 0.7345044164341049, 0.4609746678063242, 0.4609746678063242, 0.6333866433157321, 0.3612977304978707, 0.7225954609957413, 0.6827350852540502, 0.7345050655733812, 0.6827248069958185, 0.8063578225266703, 0.8331345189417441, 0.7620649024665468, 0.6334133512758183, 0.6685122318726465, 0.33425611593632326, 0.20235837237924498, 0.20235837237924498, 0.20235837237924498, 0.20235837237924498, 0.12561552187071906, 0.2512310437414381, 0.12561552187071906, 0.12561552187071906, 0.12561552187071906, 0.12561552187071906, 0.48874435027379504, 0.24437217513689752, 0.7621276194401937, 0.7427110040238744, 0.293610229575169, 0.587220459150338, 0.2662964383437051, 0.2662964383437051, 0.2662964383437051, 0.2662964383437051, 0.8331586440677609, 0.3414680601461709, 0.3414680601461709, 0.3414680601461709, 0.6827389307846613, 0.7345083507374297, 0.7512034905920925, 0.40631013775775393, 0.40631013775775393, 0.633439959811205, 0.6334035402502739, 0.6827398636120277, 0.8063666731010325, 0.8063538979238275, 0.5166521214397898, 0.7427029330802613, 0.806364506538004, 0.0851306376838283, 0.1702612753676566, 0.3405225507353132, 0.0851306376838283, 0.0851306376838283, 0.0851306376838283, 0.0851306376838283, 0.0851306376838283, 0.0851306376838283, 0.8772822291743746, 0.7426925102380179, 0.7511874421230611, 0.1553714434228548, 0.0776857217114274, 0.2330571651342822, 0.3107428868457096, 0.0776857217114274, 0.0776857217114274, 0.0776857217114274, 0.0776857217114274, 0.742702099966407, 0.8772596303758954, 0.2900697988232789, 0.2900697988232789, 0.2900697988232789, 0.5529428576581028, 0.7620540678529594, 0.8331920191202558, 0.08260022578075978, 0.16520045156151955, 0.16520045156151955, 0.2478006773422793, 0.2478006773422793, 0.08260022578075978, 0.29399066970328924, 0.29399066970328924, 0.29399066970328924, 0.7621045166646074, 0.35114912571342466, 0.35114912571342466, 0.35114912571342466, 0.8063648262422642, 0.31157971782116933, 0.31157971782116933, 0.7344881362552507, 0.7427030632537707, 0.8063796184128059, 0.385518079272154, 0.689803749984838, 0.7427233708784706, 0.8063601584291555, 0.7426863021483592, 0.7344934387181545, 0.7511981474277339, 0.8331414180208324, 0.3177902867580369, 0.3177902867580369, 0.7511927491202942, 0.8063599458656324, 0.3587352319049492, 0.7511859898325154, 0.28054121931804116, 0.28054121931804116, 0.28054121931804116, 0.37522185470224617, 0.37522185470224617, 0.2976638957016874, 0.2976638957016874, 0.8331376510507117, 0.7426947771533587, 0.734484887785667, 0.3614799130241651, 0.3614799130241651, 0.7345190281158378, 0.7620573118844907, 0.8063762866557446, 0.7620629885134189, 0.3620789589672662, 0.8465361427854362, 0.582231633506802, 0.15390134958137747, 0.15390134958137747, 0.15390134958137747, 0.15390134958137747, 0.15390134958137747, 0.15390134958137747, 0.38422787230496597, 0.38422787230496597, 0.4323325496168537, 0.4323325496168537, 0.68273441499961, 0.742678837570329, 0.09792028172160958, 0.09792028172160958, 0.19584056344321915, 0.19584056344321915, 0.09792028172160958, 0.19584056344321915, 0.7511769331667547, 0.4971459032833037, 0.12141563957583418, 0.12141563957583418, 0.24283127915166836, 0.12141563957583418, 0.12141563957583418, 0.12141563957583418, 0.7511978407501011, 0.8332148207665934, 0.8063885327417435, 0.7426898769639344, 0.7620825299096653, 0.1661197809709787, 0.1661197809709787, 0.1661197809709787, 0.1661197809709787, 0.1661197809709787, 0.24837112511200077, 0.24837112511200077, 0.24837112511200077, 0.9693946294420565, 0.6827426485935515, 0.36297552109086334, 0.36297552109086334, 0.762057580198478, 0.8063534991920939, 0.6062654801320727, 0.499562107525024, 0.49715494098130264, 0.7512106207461821, 0.7427273245925289, 0.6334068296387909, 0.3895555925710387, 0.7344876598695811, 0.4854240918567211, 0.7344780451956269, 0.37566518998076925, 0.18783259499038463, 0.18783259499038463, 0.25114994510375, 0.5022998902075, 0.25114994510375, 0.49231414271178264, 0.8063898111637872, 0.7468629361095077, 0.37343146805475386, 0.7344997206799869, 0.466569107072891, 0.15552303569096368, 0.15552303569096368, 0.15552303569096368, 0.6949665641048723, 0.5988049922274282, 0.7620632812233123, 0.24895620171615693, 0.12447810085807846, 0.24895620171615693, 0.12447810085807846, 0.12447810085807846, 0.12447810085807846, 0.5116913102904089, 0.23937704541185098, 0.23937704541185098, 0.23937704541185098, 0.23937704541185098, 0.5075211863459578, 0.29305676183382345, 0.1953711745558823, 0.09768558727794115, 0.1953711745558823, 0.09768558727794115, 0.09768558727794115, 0.09768558727794115, 0.7512085764565074, 0.15382533257723993, 0.15382533257723993, 0.4614759977317198, 0.15382533257723993, 0.15382533257723993, 0.38522894247938166, 0.22511235396766852, 0.22511235396766852, 0.22511235396766852, 0.22511235396766852, 0.7511932886944127, 0.3464741315691929, 0.3464741315691929, 0.8063638622353126, 0.3631580621015734, 0.3631580621015734, 0.2897276299590878, 0.2897276299590878, 0.7427052429295103, 0.18348478489282466, 0.18348478489282466, 0.3669695697856493, 0.18348478489282466, 0.18348478489282466, 0.35519115029179643, 0.11839705009726548, 0.11839705009726548, 0.11839705009726548, 0.11839705009726548, 0.33482057833030743, 0.33482057833030743, 0.3645133773214758, 0.8330655058298637, 0.6827312701238389, 0.15773667974173183, 0.15773667974173183, 0.15773667974173183, 0.15773667974173183, 0.15773667974173183, 0.15773667974173183, 0.8063726853822383, 0.7345018065425489, 0.15466161518238267, 0.30932323036476533, 0.15466161518238267, 0.15466161518238267, 0.8331920320703642, 0.5876477400079138, 0.7426912172036251, 0.20586575470788523, 0.6175972641236557, 0.20586575470788523, 0.37022163862431556, 0.37022163862431556, 0.8331453200987297, 0.8331495654583331, 0.5033534994570446, 0.7620939802959735, 0.44614304823987183, 0.44614304823987183, 0.6757914308368659, 0.33789571541843294, 0.7620679043824401, 0.6333966611878827, 0.36393995064239043, 0.36393995064239043, 0.36393995064239043, 0.17452935435070108, 0.5235880630521031, 0.17452935435070108, 0.3027666408433826, 0.3027666408433826, 0.7426907361100811, 0.23379664919723686, 0.23379664919723686, 0.23379664919723686, 0.23379664919723686, 0.6827155450557615, 0.7974570208425148, 0.2737117013106384, 0.0684279253276596, 0.1368558506553192, 0.20528377598297878, 0.1368558506553192, 0.0684279253276596, 0.0684279253276596, 0.0684279253276596, 0.3976327471869044, 0.7620869546412775, 0.9693362807394829, 0.7620783477789187, 0.7672907898109469, 0.3024792650694995, 0.3024792650694995, 0.8330750500572461, 0.6649202332833891, 0.13298404665667782, 0.30911445678307875, 0.30911445678307875, 0.4968144783975371, 0.8063763442685632, 0.3221872437978269, 0.49462317305687276, 0.2543409742348387, 0.5086819484696774, 0.24550986549433765, 0.24550986549433765, 0.24550986549433765, 0.25860057944297615, 0.25860057944297615], \"Term\": [\"0427\", \"20\", \"2004\", \"2005\", \"2007\", \"2119\", \"23\", \"51\", \"761227982\", \"91108208101\", \"absolut\", \"abt\", \"ad\", \"addit\", \"address\", \"adult\", \"adult\", \"advic\", \"age\", \"agent\", \"almighti\", \"among\", \"amus\", \"anamim\", \"antisemit\", \"antisoci\", \"anymor\", \"anymor\", \"ar\", \"area\", \"arrest\", \"arti\", \"articl\", \"articl\", \"articl\", \"articl\", \"articl\", \"as\", \"as\", \"ask\", \"assassin\", \"assert\", \"asshol\", \"asshol\", \"asshol\", \"asshol\", \"august\", \"authent\", \"aw\", \"awaken\", \"back\", \"back\", \"back\", \"back\", \"ban\", \"ban\", \"ban\", \"ban\", \"beat\", \"begin\", \"begin\", \"behavior\", \"best\", \"bet\", \"better\", \"bigger\", \"bit\", \"bit\", \"bit\", \"blatant\", \"block\", \"block\", \"block\", \"block\", \"blrude\", \"bohemian\", \"bot\", \"bot\", \"bow\", \"boy\", \"boyu\", \"brawl\", \"brown\", \"built\", \"burn\", \"burn\", \"burn\", \"busi\", \"busi\", \"bust\", \"call\", \"call\", \"candid\", \"cant\", \"cant\", \"cant\", \"cant\", \"cant\", \"capoeira\", \"capoeira\", \"care\", \"care\", \"care\", \"care\", \"care\", \"care\", \"chicken\", \"clean\", \"clean\", \"come\", \"conndom\", \"constant\", \"contribut\", \"contribut\", \"contribut\", \"coward\", \"crash\", \"crawl\", \"cult\", \"cunt\", \"cur\", \"cur\", \"cur\", \"cur\", \"custom\", \"dagizza\", \"danc\", \"dangerous\", \"daughter\", \"daughter\", \"daughter\", \"dead\", \"dead\", \"dead\", \"dead\", \"dear\", \"deck\", \"defend\", \"delet\", \"delet\", \"delet\", \"denni\", \"destroy\", \"destruct\", \"dick\", \"dick\", \"dick\", \"dickhead\", \"die\", \"die\", \"die\", \"die\", \"dog\", \"dog\", \"dog\", \"domin\", \"dont\", \"dont\", \"dont\", \"dont\", \"dont\", \"dont\", \"dont\", \"dont\", \"dri\", \"drink\", \"edit\", \"edit\", \"edit\", \"edit\", \"edit\", \"edit\", \"editor\", \"el\", \"el\", \"el\", \"encyclopedia\", \"ethnic\", \"eulenspiegel\", \"everyth\", \"everytim\", \"exist\", \"exist\", \"face\", \"face\", \"face\", \"face\", \"fagget\", \"faggot\", \"fall\", \"famili\", \"famili\", \"fan\", \"fat\", \"father\", \"father\", \"father\", \"fcking\", \"feel\", \"filth\", \"filthi\", \"find\", \"finger\", \"finger\", \"fire\", \"fire\", \"fistfucke\", \"fk\", \"fool\", \"fool\", \"free\", \"free\", \"french\", \"fuck\", \"fuck\", \"fuck\", \"fuck\", \"fuck\", \"fuck\", \"fuck\", \"fuck\", \"fuck\", \"fuckee\", \"fucker\", \"fuckhead\", \"fucki\", \"fuckyital\", \"fun\", \"gang\", \"gay\", \"gay\", \"genesi\", \"get\", \"get\", \"get\", \"get\", \"get\", \"get\", \"get\", \"gibson\", \"girl\", \"go\", \"go\", \"go\", \"go\", \"go\", \"go\", \"god\", \"god\", \"goddamn\", \"goe\", \"good\", \"good\", \"good\", \"good\", \"got\", \"got\", \"govern\", \"govern\", \"grave\", \"greek\", \"groin\", \"group\", \"guess\", \"guy\", \"guy\", \"harass\", \"harass\", \"hard\", \"hardi\", \"hate\", \"hate\", \"hate\", \"hate\", \"head\", \"head\", \"head\", \"head\", \"head\", \"hebrew\", \"hei\", \"hello\", \"help\", \"help\", \"hey\", \"hey\", \"hide\", \"histori\", \"hope\", \"human\", \"idioci\", \"ignor\", \"ignor\", \"ignor\", \"ill\", \"ill\", \"ill\", \"ill\", \"im\", \"im\", \"im\", \"im\", \"im\", \"im\", \"im\", \"imag\", \"imbecil\", \"impolit\", \"includ\", \"includ\", \"indic\", \"internet\", \"interview\", \"invit\", \"islam\", \"issu\", \"italian\", \"jan\", \"jay\", \"jeezz\", \"jewhat\", \"jimbo\", \"joke\", \"joke\", \"jong\", \"jsu\", \"juli\", \"keep\", \"keep\", \"keep\", \"kid\", \"kid\", \"kill\", \"kim\", \"kindli\", \"knee\", \"know\", \"know\", \"know\", \"know\", \"know\", \"know\", \"lang\", \"languag\", \"laurent\", \"lazi\", \"leav\", \"leav\", \"leno\", \"let\", \"let\", \"let\", \"let\", \"leviathan\", \"life\", \"life\", \"life\", \"life\", \"life\", \"like\", \"like\", \"like\", \"like\", \"like\", \"like\", \"like\", \"list\", \"list\", \"littl\", \"littl\", \"littl\", \"littl\", \"live\", \"live\", \"livei\", \"long\", \"look\", \"look\", \"look\", \"look\", \"look\", \"love\", \"luck\", \"ludim\", \"lydia\", \"made\", \"made\", \"made\", \"mailbox\", \"make\", \"make\", \"make\", \"make\", \"malici\", \"matt\", \"matt\", \"mattsanchezinfo\", \"men\", \"men\", \"might\", \"miss\", \"moar\", \"mobil\", \"modern\", \"mokel\", \"monday\", \"money\", \"money\", \"moron\", \"moron\", \"moron\", \"moron\", \"mother\", \"mother\", \"mother\", \"mother\", \"mother\", \"mother\", \"motherfuck\", \"motherfuck\", \"muchacho\", \"mum\", \"muslim\", \"muslim\", \"name\", \"name\", \"name\", \"name\", \"neither\", \"never\", \"never\", \"never\", \"new\", \"nigger\", \"noncontribut\", \"noth\", \"noth\", \"notifi\", \"nowher\", \"nown\", \"nut\", \"obvious\", \"offens\", \"offthen\", \"oif\", \"one\", \"one\", \"one\", \"one\", \"one\", \"one\", \"one\", \"one\", \"one\", \"oper\", \"oral\", \"outsidewith\", \"page\", \"page\", \"page\", \"page\", \"page\", \"page\", \"page\", \"page\", \"pair\", \"park\", \"part\", \"part\", \"part\", \"pashtun\", \"peac\", \"pedantri\", \"peopl\", \"peopl\", \"peopl\", \"peopl\", \"peopl\", \"peopl\", \"person\", \"person\", \"person\", \"pervert\", \"piss\", \"piss\", \"piss\", \"plane\", \"plea\", \"plea\", \"pool\", \"poopi\", \"porn\", \"poster\", \"pov\", \"prostitut\", \"pull\", \"pulpyou\", \"puppet\", \"purist\", \"push\", \"pussi\", \"pussi\", \"question\", \"quit\", \"r\", \"racism\", \"racist\", \"racist\", \"racist\", \"real\", \"real\", \"realli\", \"realli\", \"reason\", \"rebelguy\", \"recent\", \"refer\", \"refer\", \"repost\", \"research\", \"rest\", \"restor\", \"revert\", \"ride\", \"ridicul\", \"right\", \"right\", \"right\", \"right\", \"right\", \"right\", \"run\", \"run\", \"sad\", \"sad\", \"salut\", \"sand\", \"say\", \"say\", \"say\", \"say\", \"say\", \"say\", \"screw\", \"script\", \"see\", \"see\", \"see\", \"see\", \"see\", \"see\", \"selfappoint\", \"seriou\", \"sex\", \"shagger\", \"shinobi\", \"shit\", \"shit\", \"shit\", \"shit\", \"shit\", \"shove\", \"shove\", \"shove\", \"sht\", \"shtti\", \"shut\", \"shut\", \"sick\", \"sidaway\", \"simpl\", \"sinc\", \"sir\", \"sityush\", \"smellyfuck\", \"smith\", \"soapbox\", \"sock\", \"somali\", \"sometim\", \"son\", \"son\", \"son\", \"sorri\", \"sorri\", \"sorri\", \"speak\", \"spend\", \"spread\", \"spread\", \"stay\", \"stop\", \"stop\", \"stop\", \"stop\", \"straight\", \"street\", \"stuff\", \"stupid\", \"stupid\", \"stupid\", \"stupid\", \"stupid\", \"stupid\", \"subject\", \"suck\", \"suck\", \"suck\", \"suck\", \"suppos\", \"take\", \"take\", \"take\", \"take\", \"take\", \"take\", \"take\", \"talibanswho\", \"talk\", \"talk\", \"talk\", \"talk\", \"talk\", \"teenag\", \"tell\", \"tell\", \"tell\", \"tell\", \"templat\", \"test\", \"test\", \"textmediaexampleoggmatt\", \"thank\", \"thank\", \"that\", \"that\", \"thatd\", \"thing\", \"thing\", \"thing\", \"thing\", \"thing\", \"think\", \"think\", \"think\", \"think\", \"think\", \"thought\", \"thought\", \"three\", \"til\", \"timberwolf\", \"time\", \"time\", \"time\", \"time\", \"time\", \"time\", \"toni\", \"track\", \"tri\", \"tri\", \"tri\", \"tri\", \"trivial\", \"true\", \"tw\", \"u\", \"u\", \"u\", \"un\", \"un\", \"unconstruct\", \"unhistor\", \"ur\", \"userth\", \"utc\", \"utc\", \"vandal\", \"vandal\", \"vandil\", \"victim\", \"vietnam\", \"vietnam\", \"vietnam\", \"want\", \"want\", \"want\", \"warn\", \"warn\", \"weiner\", \"well\", \"well\", \"well\", \"well\", \"what\", \"who\", \"wikipedia\", \"wikipedia\", \"wikipedia\", \"wikipedia\", \"wikipedia\", \"wikipedia\", \"wikipedia\", \"wikipedia\", \"wikipedian\", \"wil\", \"william\", \"wimp\", \"wof\", \"woman\", \"woman\", \"work81103121144\", \"world\", \"world\", \"would\", \"would\", \"wp\", \"wpalso\", \"write\", \"yeah\", \"youll\", \"youll\", \"your\", \"your\", \"your\", \"youv\", \"youv\"]}, \"R\": 30, \"lambda.step\": 0.01, \"plot.opts\": {\"xlab\": \"PC1\", \"ylab\": \"PC2\"}, \"topic.order\": [9, 8, 10, 3, 7, 2, 5, 4, 6, 1]};\n",
       "\n",
       "function LDAvis_load_lib(url, callback){\n",
       "  var s = document.createElement('script');\n",
       "  s.src = url;\n",
       "  s.async = true;\n",
       "  s.onreadystatechange = s.onload = callback;\n",
       "  s.onerror = function(){console.warn(\"failed to load library \" + url);};\n",
       "  document.getElementsByTagName(\"head\")[0].appendChild(s);\n",
       "}\n",
       "\n",
       "if(typeof(LDAvis) !== \"undefined\"){\n",
       "   // already loaded: just create the visualization\n",
       "   !function(LDAvis){\n",
       "       new LDAvis(\"#\" + \"ldavis_el3506416476543415361853633187\", ldavis_el3506416476543415361853633187_data);\n",
       "   }(LDAvis);\n",
       "}else if(typeof define === \"function\" && define.amd){\n",
       "   // require.js is available: use it to load d3/LDAvis\n",
       "   require.config({paths: {d3: \"https://d3js.org/d3.v5\"}});\n",
       "   require([\"d3\"], function(d3){\n",
       "      window.d3 = d3;\n",
       "      LDAvis_load_lib(\"https://cdn.jsdelivr.net/gh/bmabey/pyLDAvis@3.3.1/pyLDAvis/js/ldavis.v3.0.0.js\", function(){\n",
       "        new LDAvis(\"#\" + \"ldavis_el3506416476543415361853633187\", ldavis_el3506416476543415361853633187_data);\n",
       "      });\n",
       "    });\n",
       "}else{\n",
       "    // require.js not available: dynamically load d3 & LDAvis\n",
       "    LDAvis_load_lib(\"https://d3js.org/d3.v5.js\", function(){\n",
       "         LDAvis_load_lib(\"https://cdn.jsdelivr.net/gh/bmabey/pyLDAvis@3.3.1/pyLDAvis/js/ldavis.v3.0.0.js\", function(){\n",
       "                 new LDAvis(\"#\" + \"ldavis_el3506416476543415361853633187\", ldavis_el3506416476543415361853633187_data);\n",
       "            })\n",
       "         });\n",
       "}\n",
       "</script>"
      ],
      "text/plain": [
       "PreparedData(topic_coordinates=              x         y  topics  cluster       Freq\n",
       "topic                                                \n",
       "8     -0.000326  0.102985       1        1  14.700730\n",
       "7      0.037506 -0.111399       2        1  13.787125\n",
       "9      0.097767  0.034859       3        1  13.005752\n",
       "2     -0.079958 -0.005182       4        1  11.392831\n",
       "6      0.098640  0.010851       5        1  10.939010\n",
       "1      0.002212  0.026317       6        1   9.149228\n",
       "4     -0.086663  0.032891       7        1   7.962143\n",
       "3     -0.041267 -0.036764       8        1   7.549289\n",
       "5     -0.005084 -0.036715       9        1   6.366199\n",
       "0     -0.022827 -0.017843      10        1   5.147693, topic_info=       Term       Freq      Total Category  logprob  loglift\n",
       "55     fuck  26.000000  26.000000  Default  30.0000  30.0000\n",
       "664     fun   6.000000   6.000000  Default  29.0000  29.0000\n",
       "92       as   4.000000   4.000000  Default  28.0000  28.0000\n",
       "116     get  14.000000  14.000000  Default  27.0000  27.0000\n",
       "195    like  14.000000  14.000000  Default  26.0000  26.0000\n",
       "..      ...        ...        ...      ...      ...      ...\n",
       "32     dont   0.626450  12.484152  Topic10  -5.2784  -0.0255\n",
       "120  asshol   0.514372   3.870547  Topic10  -5.4756   0.9484\n",
       "199    long   0.474767   2.564424  Topic10  -5.5557   1.2800\n",
       "41   anymor   0.476330   2.733827  Topic10  -5.5524   1.2193\n",
       "2      piss   0.449507   2.847793  Topic10  -5.6104   1.1205\n",
       "\n",
       "[611 rows x 6 columns], token_table=      Topic      Freq  Term\n",
       "term                       \n",
       "678       4  0.633415  0427\n",
       "679       4  0.633384    20\n",
       "680       4  0.633374  2004\n",
       "638       6  0.762066  2005\n",
       "256       5  0.734505  2007\n",
       "...     ...       ...   ...\n",
       "254       2  0.245510  your\n",
       "254       3  0.245510  your\n",
       "254       6  0.245510  your\n",
       "255       2  0.258601  youv\n",
       "255       6  0.258601  youv\n",
       "\n",
       "[728 rows x 3 columns], R=30, lambda_step=0.01, plot_opts={'xlab': 'PC1', 'ylab': 'PC2'}, topic_order=[9, 8, 10, 3, 7, 2, 5, 4, 6, 1])"
      ]
     },
     "execution_count": 6,
     "metadata": {},
     "output_type": "execute_result"
    }
   ],
   "source": [
    "simple_corpus, simple_id2word = token_to_corpus(df['lemmatized'][:100])\n",
    "simple_LDA_vis = generate_pyLDAvis(simple_corpus, simple_id2word)\n",
    "pyLDAvis.enable_notebook()\n",
    "simple_LDA_vis"
   ]
  }
 ],
 "metadata": {
  "kernelspec": {
   "display_name": "Python 3",
   "language": "python",
   "name": "python3"
  },
  "language_info": {
   "codemirror_mode": {
    "name": "ipython",
    "version": 3
   },
   "file_extension": ".py",
   "mimetype": "text/x-python",
   "name": "python",
   "nbconvert_exporter": "python",
   "pygments_lexer": "ipython3",
   "version": "3.8.6rc1"
  }
 },
 "nbformat": 4,
 "nbformat_minor": 5
}
